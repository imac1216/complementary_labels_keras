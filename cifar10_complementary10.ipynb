{
 "cells": [
  {
   "cell_type": "code",
   "execution_count": null,
   "metadata": {
    "colab": {
     "autoexec": {
      "startup": false,
      "wait_interval": 0
     },
     "base_uri": "https://localhost:8080/",
     "height": 34
    },
    "colab_type": "code",
    "executionInfo": {
     "elapsed": 1589,
     "status": "ok",
     "timestamp": 1527407102463,
     "user": {
      "displayName": "cv usk",
      "photoUrl": "//lh5.googleusercontent.com/--UQyF-cisE4/AAAAAAAAAAI/AAAAAAACcCg/nW1mf571W7o/s50-c-k-no/photo.jpg",
      "userId": "103824322408948109555"
     },
     "user_tz": -540
    },
    "id": "AIPHvJVbMey-",
    "outputId": "abe8f62e-126b-426b-c1a8-0481f73ede7c"
   },
   "outputs": [],
   "source": [
    "import keras\n",
    "from keras.layers import Dense, Conv2D, BatchNormalization, Activation, MaxPooling2D\n",
    "from keras.layers import Input, GlobalAveragePooling2D, Dropout\n",
    "from keras.optimizers import Adam\n",
    "from keras.preprocessing.image import ImageDataGenerator\n",
    "from keras import backend as K\n",
    "from keras.models import Model\n",
    "from keras.datasets import cifar10\n",
    "from keras.callbacks import EarlyStopping, CSVLogger\n",
    "from keras import metrics\n",
    "\n",
    "import os\n",
    "import numpy as np\n",
    "import math"
   ]
  },
  {
   "cell_type": "code",
   "execution_count": null,
   "metadata": {
    "colab": {
     "autoexec": {
      "startup": false,
      "wait_interval": 0
     }
    },
    "colab_type": "code",
    "id": "W09cbkbEMezE"
   },
   "outputs": [],
   "source": [
    "num_classes = 10"
   ]
  },
  {
   "cell_type": "code",
   "execution_count": null,
   "metadata": {
    "colab": {
     "autoexec": {
      "startup": false,
      "wait_interval": 0
     }
    },
    "colab_type": "code",
    "id": "LUu1pAKHMezG"
   },
   "outputs": [],
   "source": []
  },
  {
   "cell_type": "code",
   "execution_count": null,
   "metadata": {
    "colab": {
     "autoexec": {
      "startup": false,
      "wait_interval": 0
     },
     "base_uri": "https://localhost:8080/",
     "height": 70
    },
    "colab_type": "code",
    "executionInfo": {
     "elapsed": 867,
     "status": "ok",
     "timestamp": 1527407105303,
     "user": {
      "displayName": "cv usk",
      "photoUrl": "//lh5.googleusercontent.com/--UQyF-cisE4/AAAAAAAAAAI/AAAAAAACcCg/nW1mf571W7o/s50-c-k-no/photo.jpg",
      "userId": "103824322408948109555"
     },
     "user_tz": -540
    },
    "id": "iQq4cQ6PMezI",
    "outputId": "1fbf3a2f-1931-46d9-a8a1-f9a269a5e71b"
   },
   "outputs": [],
   "source": [
    "# load dataset\n",
    "(x_train, y_train), (x_test, y_test) = cifar10.load_data()\n",
    "print('x_train shape:', x_train.shape)\n",
    "print(x_train.shape[0], 'train samples')\n",
    "print(x_test.shape[0], 'test samples')"
   ]
  },
  {
   "cell_type": "code",
   "execution_count": null,
   "metadata": {
    "colab": {
     "autoexec": {
      "startup": false,
      "wait_interval": 0
     }
    },
    "colab_type": "code",
    "id": "5Nt28qRoju5f"
   },
   "outputs": [],
   "source": []
  },
  {
   "cell_type": "code",
   "execution_count": null,
   "metadata": {
    "colab": {
     "autoexec": {
      "startup": false,
      "wait_interval": 0
     }
    },
    "colab_type": "code",
    "id": "BSM5qWlNi2bs"
   },
   "outputs": [],
   "source": [
    "def get_complementary_labels(y, num_classes):\n",
    "    y_c = np.zeros(len(y)).reshape(len(y), 1)\n",
    "    for i,v in enumerate(y):\n",
    "        y_c[i] = np.random.choice([j for j in range(num_classes) if j!=v], 1)\n",
    "    return y_c"
   ]
  },
  {
   "cell_type": "code",
   "execution_count": null,
   "metadata": {
    "colab": {
     "autoexec": {
      "startup": false,
      "wait_interval": 0
     }
    },
    "colab_type": "code",
    "id": "g4G7Jdtlj7mY"
   },
   "outputs": [],
   "source": [
    "y_ctrain10 = np.zeros(len(y_train)).reshape(len(y_train), 1)\n",
    "y_ctrain10 = get_complementary_labels(y_train, 10)"
   ]
  },
  {
   "cell_type": "code",
   "execution_count": null,
   "metadata": {
    "colab": {
     "autoexec": {
      "startup": false,
      "wait_interval": 0
     }
    },
    "colab_type": "code",
    "id": "ocYxhDGnk6f7"
   },
   "outputs": [],
   "source": [
    "y_ctest10 = np.zeros(len(y_test)).reshape(len(y_test), 1)\n",
    "y_ctest10 = get_complementary_labels(y_test, 10)"
   ]
  },
  {
   "cell_type": "code",
   "execution_count": null,
   "metadata": {
    "colab": {
     "autoexec": {
      "startup": false,
      "wait_interval": 0
     },
     "base_uri": "https://localhost:8080/",
     "height": 158
    },
    "colab_type": "code",
    "executionInfo": {
     "elapsed": 694,
     "status": "ok",
     "timestamp": 1527407760639,
     "user": {
      "displayName": "cv usk",
      "photoUrl": "//lh5.googleusercontent.com/--UQyF-cisE4/AAAAAAAAAAI/AAAAAAACcCg/nW1mf571W7o/s50-c-k-no/photo.jpg",
      "userId": "103824322408948109555"
     },
     "user_tz": -540
    },
    "id": "x4YjQUf8UhHi",
    "outputId": "ee7b0bea-b975-40c6-a6ef-baca310f1203"
   },
   "outputs": [],
   "source": [
    "print('x_train shape:', x_train.shape)\n",
    "print('y_train shape:', y_train.shape)\n",
    "print('y_ctrain10 shape:', y_ctrain10.shape)\n",
    "print('x_test shape:', x_test.shape)\n",
    "print('y_test shape:', y_test.shape)\n",
    "print('y_ctest10 shape:', y_ctest10.shape)"
   ]
  },
  {
   "cell_type": "code",
   "execution_count": null,
   "metadata": {
    "colab": {
     "autoexec": {
      "startup": false,
      "wait_interval": 0
     },
     "base_uri": "https://localhost:8080/",
     "height": 87
    },
    "colab_type": "code",
    "executionInfo": {
     "elapsed": 1985,
     "status": "ok",
     "timestamp": 1527407828743,
     "user": {
      "displayName": "cv usk",
      "photoUrl": "//lh5.googleusercontent.com/--UQyF-cisE4/AAAAAAAAAAI/AAAAAAACcCg/nW1mf571W7o/s50-c-k-no/photo.jpg",
      "userId": "103824322408948109555"
     },
     "user_tz": -540
    },
    "id": "kz2x7cHPMezN",
    "outputId": "a5715974-f4f9-4024-d29a-89599174a4b1"
   },
   "outputs": [],
   "source": [
    "# prepare x ordinary dataset\n",
    "x_train = x_train.astype('float32')\n",
    "x_test = x_test.astype('float32')\n",
    "x_train /= 255\n",
    "x_test /= 255\n",
    "\n",
    "# Convert class vectors to binary class matrices.\n",
    "y_train = keras.utils.to_categorical(y_train, num_classes)\n",
    "y_test = keras.utils.to_categorical(y_test, num_classes)\n",
    "\n",
    "# Convert class vectors to binary class matrices.\n",
    "y_ctrain10 = keras.utils.to_categorical(y_ctrain10, num_classes)\n",
    "y_ctest10 = keras.utils.to_categorical(y_ctest10, num_classes)\n",
    "\n",
    "print('y_train: {0}\\ny_test: {1}'.format(y_train.shape, y_test.shape))\n",
    "print('y_ctrain10: {0}\\ny_ctest10: {1}'.format(y_ctrain10.shape, y_ctest10.shape))"
   ]
  },
  {
   "cell_type": "code",
   "execution_count": null,
   "metadata": {
    "colab": {
     "autoexec": {
      "startup": false,
      "wait_interval": 0
     }
    },
    "colab_type": "code",
    "id": "v_9QkmeYWOlQ"
   },
   "outputs": [],
   "source": []
  },
  {
   "cell_type": "code",
   "execution_count": null,
   "metadata": {
    "colab": {
     "autoexec": {
      "startup": false,
      "wait_interval": 0
     }
    },
    "colab_type": "code",
    "id": "s6gX5I1kMezQ"
   },
   "outputs": [],
   "source": []
  },
  {
   "cell_type": "code",
   "execution_count": null,
   "metadata": {
    "colab": {
     "autoexec": {
      "startup": false,
      "wait_interval": 0
     }
    },
    "colab_type": "code",
    "id": "8ij4u9sMYl6V"
   },
   "outputs": [],
   "source": []
  },
  {
   "cell_type": "code",
   "execution_count": null,
   "metadata": {
    "colab": {
     "autoexec": {
      "startup": false,
      "wait_interval": 0
     }
    },
    "colab_type": "code",
    "id": "Cw28A68gVQxA"
   },
   "outputs": [],
   "source": []
  },
  {
   "cell_type": "code",
   "execution_count": null,
   "metadata": {
    "colab": {
     "autoexec": {
      "startup": false,
      "wait_interval": 0
     }
    },
    "colab_type": "code",
    "id": "KhkC6zFBMezb"
   },
   "outputs": [],
   "source": [
    "def vgg(x_train,classes):\n",
    "    inputs = Input(shape=x_train.shape[1:])\n",
    "\n",
    "    x = Conv2D(64, (3,3), padding=\"same\")(inputs)\n",
    "    x = Activation('relu')(x)\n",
    "    x = BatchNormalization()(x)\n",
    "    x = Dropout(0.25)(x)\n",
    "    x = Conv2D(64, (3,3), padding=\"same\")(x)\n",
    "    x = Activation('relu')(x)\n",
    "    x = BatchNormalization()(x)\n",
    "    x = MaxPooling2D((2,2))(x)\n",
    "\n",
    "    x = Conv2D(128, (3,3), padding=\"same\")(x)\n",
    "    x = Activation('relu')(x)\n",
    "    x = BatchNormalization()(x)\n",
    "    x = Dropout(0.25)(x)\n",
    "    x = Conv2D(128, (3,3), padding=\"same\")(x)\n",
    "    x = Activation('relu')(x)\n",
    "    x = BatchNormalization()(x)\n",
    "    x = MaxPooling2D((2,2))(x)\n",
    "\n",
    "    x = Conv2D(256, (3,3), padding=\"same\")(x)\n",
    "    x = Activation('relu')(x)\n",
    "    x = BatchNormalization()(x)\n",
    "    x = Dropout(0.25)(x)\n",
    "    x = Conv2D(256, (3,3), padding=\"same\")(x)\n",
    "    x = Activation('relu')(x)\n",
    "    x = BatchNormalization()(x)\n",
    "    x = MaxPooling2D((2,2))(x)\n",
    "\n",
    "    x = GlobalAveragePooling2D()(x)\n",
    "    x = Dropout(0.5)(x)\n",
    "    x = Dense(classes, activation='softmax')(x)\n",
    "\n",
    "    model = Model(inputs, x)\n",
    "    return model"
   ]
  },
  {
   "cell_type": "code",
   "execution_count": null,
   "metadata": {
    "colab": {
     "autoexec": {
      "startup": false,
      "wait_interval": 0
     }
    },
    "colab_type": "code",
    "id": "sjofFvIsNax5"
   },
   "outputs": [],
   "source": [
    "model = vgg(x_train, num_classes)"
   ]
  },
  {
   "cell_type": "code",
   "execution_count": null,
   "metadata": {
    "colab": {
     "autoexec": {
      "startup": false,
      "wait_interval": 0
     }
    },
    "colab_type": "code",
    "id": "Ji-tkT-5YRYL"
   },
   "outputs": [],
   "source": [
    "es_cb = EarlyStopping(monitor='val_loss', patience=3, verbose=1, mode='auto')\n",
    "csv_log = CSVLogger(\"Cifar4_normal.csv\", separator=',', append=True)\n",
    "\n",
    "model.compile(loss='categorical_crossentropy',\n",
    "              optimizer=Adam(lr=0.0001, decay=1e-5, amsgrad=True),\n",
    "              metrics=['accuracy'])"
   ]
  },
  {
   "cell_type": "code",
   "execution_count": null,
   "metadata": {
    "colab": {
     "autoexec": {
      "startup": false,
      "wait_interval": 0
     }
    },
    "colab_type": "code",
    "id": "rOVUFqWWOyZW"
   },
   "outputs": [],
   "source": [
    "batch_size = 32\n",
    "epochs = 100"
   ]
  },
  {
   "cell_type": "code",
   "execution_count": null,
   "metadata": {
    "colab": {
     "autoexec": {
      "startup": false,
      "wait_interval": 0
     }
    },
    "colab_type": "code",
    "id": "0jAm49MgYSqL"
   },
   "outputs": [],
   "source": [
    "datagen = ImageDataGenerator(\n",
    "    featurewise_center=False,\n",
    "    samplewise_center=False,\n",
    "    featurewise_std_normalization=False,\n",
    "    samplewise_std_normalization=False, \n",
    "    zca_whitening=False,\n",
    "    rotation_range=15, \n",
    "    width_shift_range=0.1, \n",
    "    height_shift_range=0.1, \n",
    "    horizontal_flip=True,\n",
    "    vertical_flip=False) \n",
    "\n",
    "datagen.fit(x_train)"
   ]
  },
  {
   "cell_type": "code",
   "execution_count": null,
   "metadata": {
    "colab": {
     "autoexec": {
      "startup": false,
      "wait_interval": 0
     },
     "base_uri": "https://localhost:8080/",
     "height": 882
    },
    "colab_type": "code",
    "executionInfo": {
     "elapsed": 1845020,
     "status": "ok",
     "timestamp": 1527398279619,
     "user": {
      "displayName": "cv usk",
      "photoUrl": "//lh5.googleusercontent.com/--UQyF-cisE4/AAAAAAAAAAI/AAAAAAACcCg/nW1mf571W7o/s50-c-k-no/photo.jpg",
      "userId": "103824322408948109555"
     },
     "user_tz": -540
    },
    "id": "ilKNQV3-N0ca",
    "outputId": "1ba03097-4ed1-400d-8a7e-159e72571b8d"
   },
   "outputs": [],
   "source": [
    "history = model.fit_generator(datagen.flow(x_train, y_train,\n",
    "                                           batch_size=batch_size),\n",
    "                              steps_per_epoch=x_train.shape[0] // batch_size,\n",
    "                              epochs=epochs,\n",
    "                              validation_data=(x_test, y_test),\n",
    "                              callbacks=[es_cb, csv_log])"
   ]
  },
  {
   "cell_type": "code",
   "execution_count": null,
   "metadata": {
    "colab": {
     "autoexec": {
      "startup": false,
      "wait_interval": 0
     },
     "base_uri": "https://localhost:8080/",
     "height": 52
    },
    "colab_type": "code",
    "executionInfo": {
     "elapsed": 4439,
     "status": "ok",
     "timestamp": 1527398284104,
     "user": {
      "displayName": "cv usk",
      "photoUrl": "//lh5.googleusercontent.com/--UQyF-cisE4/AAAAAAAAAAI/AAAAAAACcCg/nW1mf571W7o/s50-c-k-no/photo.jpg",
      "userId": "103824322408948109555"
     },
     "user_tz": -540
    },
    "id": "IwPrXvPFMezf",
    "outputId": "ce06f657-3cad-45ee-afa5-33f275c78dc9"
   },
   "outputs": [],
   "source": [
    "evaluation = model.evaluate(x_test, y_test)\n",
    "print(evaluation)"
   ]
  },
  {
   "cell_type": "code",
   "execution_count": null,
   "metadata": {
    "colab": {
     "autoexec": {
      "startup": false,
      "wait_interval": 0
     }
    },
    "colab_type": "code",
    "id": "AiHNVujZaJwf"
   },
   "outputs": [],
   "source": []
  },
  {
   "cell_type": "code",
   "execution_count": null,
   "metadata": {
    "colab": {
     "autoexec": {
      "startup": false,
      "wait_interval": 0
     }
    },
    "colab_type": "code",
    "id": "pAqdFqAbwIYY"
   },
   "outputs": [],
   "source": []
  },
  {
   "cell_type": "code",
   "execution_count": null,
   "metadata": {
    "colab": {
     "autoexec": {
      "startup": false,
      "wait_interval": 0
     }
    },
    "colab_type": "code",
    "id": "hPY9ZbQVhDXe"
   },
   "outputs": [],
   "source": [
    "cmodel = vgg(x_train, num_classes)"
   ]
  },
  {
   "cell_type": "code",
   "execution_count": null,
   "metadata": {
    "colab": {
     "autoexec": {
      "startup": false,
      "wait_interval": 0
     }
    },
    "colab_type": "code",
    "id": "cg5u-ZamndA2"
   },
   "outputs": [],
   "source": [
    "def sigmoid_loss(target, output):\n",
    "    return 10 / (1 + math.e ** K.categorical_crossentropy(target, output))"
   ]
  },
  {
   "cell_type": "code",
   "execution_count": null,
   "metadata": {
    "colab": {
     "autoexec": {
      "startup": false,
      "wait_interval": 0
     }
    },
    "colab_type": "code",
    "id": "RlCKwWCshwk8"
   },
   "outputs": [],
   "source": [
    "def caccuracy(target, output):\n",
    "    return 1 - metrics.categorical_accuracy(target, output)"
   ]
  },
  {
   "cell_type": "code",
   "execution_count": null,
   "metadata": {
    "colab": {
     "autoexec": {
      "startup": false,
      "wait_interval": 0
     }
    },
    "colab_type": "code",
    "id": "K94s5Sn1rzN_"
   },
   "outputs": [],
   "source": [
    "batch_size = 32\n",
    "epochs = 100"
   ]
  },
  {
   "cell_type": "code",
   "execution_count": null,
   "metadata": {
    "colab": {
     "autoexec": {
      "startup": false,
      "wait_interval": 0
     }
    },
    "colab_type": "code",
    "id": "UQZlyZS0aJ41"
   },
   "outputs": [],
   "source": [
    "es_cb = EarlyStopping(monitor='val_loss', patience=5, verbose=1, mode='auto')\n",
    "csv_log = CSVLogger(\"Cifar3_complementary.csv\", separator=',', append=True)\n",
    "\n",
    "cmodel.compile(loss=sigmoid_loss,\n",
    "               optimizer=Adam(lr=0.00001, decay=1e-6, amsgrad=True),\n",
    "               metrics=[caccuracy])"
   ]
  },
  {
   "cell_type": "code",
   "execution_count": null,
   "metadata": {
    "colab": {
     "autoexec": {
      "startup": false,
      "wait_interval": 0
     }
    },
    "colab_type": "code",
    "id": "0adhYVzYMez0"
   },
   "outputs": [],
   "source": [
    "datagen = ImageDataGenerator(\n",
    "    featurewise_center=False,\n",
    "    samplewise_center=False,\n",
    "    featurewise_std_normalization=False,\n",
    "    samplewise_std_normalization=False, \n",
    "    zca_whitening=False,\n",
    "    rotation_range=15, \n",
    "    width_shift_range=0.1, \n",
    "    height_shift_range=0.1, \n",
    "    horizontal_flip=True,\n",
    "    vertical_flip=False) \n",
    "\n",
    "datagen.fit(x_train)"
   ]
  },
  {
   "cell_type": "code",
   "execution_count": null,
   "metadata": {
    "colab": {
     "autoexec": {
      "startup": false,
      "wait_interval": 0
     },
     "base_uri": "https://localhost:8080/",
     "height": 248
    },
    "colab_type": "code",
    "id": "GRxLCOLUPD8T",
    "outputId": "1c97c812-49c7-4411-842f-7109b717a0f7"
   },
   "outputs": [],
   "source": [
    "history = cmodel.fit_generator(datagen.flow(x_train, y_ctrain10,\n",
    "                                            batch_size=batch_size),\n",
    "                               steps_per_epoch=x_train.shape[0] // batch_size,\n",
    "                               epochs=epochs,\n",
    "                               validation_data=(x_test, y_ctest10),\n",
    "                               callbacks=[es_cb, csv_log])"
   ]
  },
  {
   "cell_type": "code",
   "execution_count": null,
   "metadata": {
    "colab": {
     "autoexec": {
      "startup": false,
      "wait_interval": 0
     },
     "base_uri": "https://localhost:8080/",
     "height": 34
    },
    "colab_type": "code",
    "executionInfo": {
     "elapsed": 4273,
     "status": "ok",
     "timestamp": 1527414948821,
     "user": {
      "displayName": "cv usk",
      "photoUrl": "//lh5.googleusercontent.com/--UQyF-cisE4/AAAAAAAAAAI/AAAAAAACcCg/nW1mf571W7o/s50-c-k-no/photo.jpg",
      "userId": "103824322408948109555"
     },
     "user_tz": -540
    },
    "id": "2juEWtGGoxG5",
    "outputId": "2b55099c-e91a-41ca-a8a2-1112b2b82dcb"
   },
   "outputs": [],
   "source": [
    "cpred = cmodel.predict(x_test)\n",
    "\n",
    "score = 0\n",
    "for i in range(len(y_test)):\n",
    "    if np.argmax(y_test[i]) == np.argmax(cpred[i]):\n",
    "        score += 1\n",
    "print(score / len(y_test))"
   ]
  },
  {
   "cell_type": "code",
   "execution_count": null,
   "metadata": {
    "colab": {
     "autoexec": {
      "startup": false,
      "wait_interval": 0
     }
    },
    "colab_type": "code",
    "id": "s9dNYjLqiLr7"
   },
   "outputs": [],
   "source": []
  },
  {
   "cell_type": "code",
   "execution_count": null,
   "metadata": {
    "colab": {
     "autoexec": {
      "startup": false,
      "wait_interval": 0
     }
    },
    "colab_type": "code",
    "id": "JP3JTjrPoxEM"
   },
   "outputs": [],
   "source": []
  },
  {
   "cell_type": "code",
   "execution_count": null,
   "metadata": {
    "colab": {
     "autoexec": {
      "startup": false,
      "wait_interval": 0
     }
    },
    "colab_type": "code",
    "id": "4AdwNz7To5L0"
   },
   "outputs": [],
   "source": []
  },
  {
   "cell_type": "code",
   "execution_count": null,
   "metadata": {
    "colab": {
     "autoexec": {
      "startup": false,
      "wait_interval": 0
     }
    },
    "colab_type": "code",
    "id": "agB4nslIpFUy"
   },
   "outputs": [],
   "source": []
  }
 ],
 "metadata": {
  "accelerator": "GPU",
  "colab": {
   "collapsed_sections": [],
   "default_view": {},
   "name": "cifar10_complementary10.ipynb",
   "provenance": [],
   "version": "0.3.2",
   "views": {}
  },
  "kernelspec": {
   "display_name": "Python 3",
   "language": "python",
   "name": "python3"
  },
  "language_info": {
   "codemirror_mode": {
    "name": "ipython",
    "version": 3
   },
   "file_extension": ".py",
   "mimetype": "text/x-python",
   "name": "python",
   "nbconvert_exporter": "python",
   "pygments_lexer": "ipython3",
   "version": "3.6.4"
  }
 },
 "nbformat": 4,
 "nbformat_minor": 1
}
