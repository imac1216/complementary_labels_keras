{
 "cells": [
  {
   "cell_type": "markdown",
   "metadata": {
    "colab_type": "text",
    "id": "89F4hE-v2cim"
   },
   "source": [
    "# Learning from complementary labels, for Cifar10 with 4 labels"
   ]
  },
  {
   "cell_type": "code",
   "execution_count": 1,
   "metadata": {
    "colab": {
     "autoexec": {
      "startup": false,
      "wait_interval": 0
     },
     "base_uri": "https://localhost:8080/",
     "height": 34
    },
    "colab_type": "code",
    "executionInfo": {
     "elapsed": 1606,
     "status": "ok",
     "timestamp": 1527395358232,
     "user": {
      "displayName": "cv usk",
      "photoUrl": "//lh5.googleusercontent.com/--UQyF-cisE4/AAAAAAAAAAI/AAAAAAACcCg/nW1mf571W7o/s50-c-k-no/photo.jpg",
      "userId": "103824322408948109555"
     },
     "user_tz": -540
    },
    "id": "AIPHvJVbMey-",
    "outputId": "18cde890-88cd-45c8-e4c8-6119cac443e3"
   },
   "outputs": [
    {
     "name": "stderr",
     "output_type": "stream",
     "text": [
      "/opt/anaconda3/lib/python3.6/site-packages/h5py/__init__.py:36: FutureWarning: Conversion of the second argument of issubdtype from `float` to `np.floating` is deprecated. In future, it will be treated as `np.float64 == np.dtype(float).type`.\n",
      "  from ._conv import register_converters as _register_converters\n",
      "Using TensorFlow backend.\n"
     ]
    }
   ],
   "source": [
    "import keras\n",
    "from keras.layers import Dense, Conv2D, BatchNormalization, Activation, MaxPooling2D\n",
    "from keras.layers import Input, GlobalAveragePooling2D, Dropout\n",
    "from keras.optimizers import Adam\n",
    "from keras.preprocessing.image import ImageDataGenerator\n",
    "from keras import backend as K\n",
    "from keras.models import Model\n",
    "from keras.datasets import cifar10\n",
    "from keras.callbacks import EarlyStopping, CSVLogger\n",
    "from keras import metrics\n",
    "\n",
    "import os\n",
    "import numpy as np\n",
    "import math"
   ]
  },
  {
   "cell_type": "code",
   "execution_count": null,
   "metadata": {
    "colab": {
     "autoexec": {
      "startup": false,
      "wait_interval": 0
     }
    },
    "colab_type": "code",
    "id": "LUu1pAKHMezG"
   },
   "outputs": [],
   "source": []
  },
  {
   "cell_type": "markdown",
   "metadata": {
    "colab_type": "text",
    "id": "6c33USLw2oUF"
   },
   "source": [
    "## Experiment with four classes"
   ]
  },
  {
   "cell_type": "code",
   "execution_count": 2,
   "metadata": {
    "colab": {
     "autoexec": {
      "startup": false,
      "wait_interval": 0
     }
    },
    "colab_type": "code",
    "id": "W09cbkbEMezE"
   },
   "outputs": [],
   "source": [
    "num_classes = 4"
   ]
  },
  {
   "cell_type": "markdown",
   "metadata": {
    "colab_type": "text",
    "id": "JtqI2ZjF2xOB"
   },
   "source": [
    "### Prepare dataset"
   ]
  },
  {
   "cell_type": "code",
   "execution_count": 3,
   "metadata": {
    "colab": {
     "autoexec": {
      "startup": false,
      "wait_interval": 0
     },
     "base_uri": "https://localhost:8080/",
     "height": 70
    },
    "colab_type": "code",
    "executionInfo": {
     "elapsed": 751,
     "status": "ok",
     "timestamp": 1527395360447,
     "user": {
      "displayName": "cv usk",
      "photoUrl": "//lh5.googleusercontent.com/--UQyF-cisE4/AAAAAAAAAAI/AAAAAAACcCg/nW1mf571W7o/s50-c-k-no/photo.jpg",
      "userId": "103824322408948109555"
     },
     "user_tz": -540
    },
    "id": "iQq4cQ6PMezI",
    "outputId": "6bd02fb0-0846-4e9d-ccc1-b50f7c8b4748"
   },
   "outputs": [
    {
     "name": "stdout",
     "output_type": "stream",
     "text": [
      "x_train shape: (50000, 32, 32, 3)\n",
      "50000 train samples\n",
      "10000 test samples\n"
     ]
    }
   ],
   "source": [
    "# load dataset\n",
    "(x_train, y_train), (x_test, y_test) = cifar10.load_data()\n",
    "print('x_train shape:', x_train.shape)\n",
    "print(x_train.shape[0], 'train samples')\n",
    "print(x_test.shape[0], 'test samples')"
   ]
  },
  {
   "cell_type": "code",
   "execution_count": 4,
   "metadata": {
    "colab": {
     "autoexec": {
      "startup": false,
      "wait_interval": 0
     }
    },
    "colab_type": "code",
    "id": "YPj-m1AeVs4e"
   },
   "outputs": [],
   "source": [
    "# generate complementary labels for training targets\n",
    "y_train4_pos = np.where(y_train<=3)[0]\n",
    "x_train4 = x_train[y_train4_pos]\n",
    "y_train4 = y_train[y_train4_pos]\n",
    "\n",
    "y_ctrain4 = np.zeros(len(y_train4)).reshape(len(y_train4), 1)\n",
    "for i,v in enumerate(y_train4):\n",
    "    if v == 0:\n",
    "        y_ctrain4[i] = np.random.choice([1,2,3],1)\n",
    "    elif v == 1:\n",
    "        y_ctrain4[i] = np.random.choice([0,2,3],1)\n",
    "    elif v == 2:\n",
    "        y_ctrain4[i] = np.random.choice([0,1,3],1)\n",
    "    elif v == 3:\n",
    "        y_ctrain4[i] = np.random.choice([0,1,2],1)"
   ]
  },
  {
   "cell_type": "code",
   "execution_count": 5,
   "metadata": {
    "colab": {
     "autoexec": {
      "startup": false,
      "wait_interval": 0
     }
    },
    "colab_type": "code",
    "id": "vr-s0ZnwVs7X"
   },
   "outputs": [],
   "source": [
    "# generate complementary labels for test targets\n",
    "y_test4_pos = np.where(y_test<=3)[0]\n",
    "x_test4 = x_test[y_test4_pos]\n",
    "y_test4 = y_test[y_test4_pos]\n",
    "\n",
    "y_ctest4 = np.zeros(len(y_test4)).reshape(len(y_test4), 1)\n",
    "for i,v in enumerate(y_test4):\n",
    "    if v == 0:\n",
    "        y_ctest4[i] = np.random.choice([1,2,3],1)\n",
    "    elif v == 1:\n",
    "        y_ctest4[i] = np.random.choice([0,2,3],1)\n",
    "    elif v == 2:\n",
    "        y_ctest4[i] = np.random.choice([0,1,3],1)\n",
    "    elif v == 3:\n",
    "        y_ctest4[i] = np.random.choice([0,1,2],1)"
   ]
  },
  {
   "cell_type": "code",
   "execution_count": 6,
   "metadata": {
    "colab": {
     "autoexec": {
      "startup": false,
      "wait_interval": 0
     },
     "base_uri": "https://localhost:8080/",
     "height": 122
    },
    "colab_type": "code",
    "executionInfo": {
     "elapsed": 604,
     "status": "ok",
     "timestamp": 1527395362980,
     "user": {
      "displayName": "cv usk",
      "photoUrl": "//lh5.googleusercontent.com/--UQyF-cisE4/AAAAAAAAAAI/AAAAAAACcCg/nW1mf571W7o/s50-c-k-no/photo.jpg",
      "userId": "103824322408948109555"
     },
     "user_tz": -540
    },
    "id": "x4YjQUf8UhHi",
    "outputId": "0566bedd-195a-4bc6-bd9a-afe2e7ced918"
   },
   "outputs": [
    {
     "name": "stdout",
     "output_type": "stream",
     "text": [
      "x_train4 shape: (20000, 32, 32, 3)\n",
      "y_ctrain4 shape: (20000, 1)\n",
      "x_test4 shape: (4000, 32, 32, 3)\n",
      "y_ctest4 shape: (4000, 1)\n",
      "20000 train4 samples\n",
      "4000 test4 samples\n"
     ]
    }
   ],
   "source": [
    "print('x_train4 shape:', x_train4.shape)\n",
    "print('y_ctrain4 shape:', y_ctrain4.shape)\n",
    "print('x_test4 shape:', x_test4.shape)\n",
    "print('y_ctest4 shape:', y_ctest4.shape)\n",
    "print(x_train4.shape[0], 'train4 samples')\n",
    "print(x_test4.shape[0], 'test4 samples')"
   ]
  },
  {
   "cell_type": "code",
   "execution_count": 7,
   "metadata": {
    "colab": {
     "autoexec": {
      "startup": false,
      "wait_interval": 0
     },
     "base_uri": "https://localhost:8080/",
     "height": 87
    },
    "colab_type": "code",
    "executionInfo": {
     "elapsed": 580,
     "status": "ok",
     "timestamp": 1527395363727,
     "user": {
      "displayName": "cv usk",
      "photoUrl": "//lh5.googleusercontent.com/--UQyF-cisE4/AAAAAAAAAAI/AAAAAAACcCg/nW1mf571W7o/s50-c-k-no/photo.jpg",
      "userId": "103824322408948109555"
     },
     "user_tz": -540
    },
    "id": "kz2x7cHPMezN",
    "outputId": "061d0d8a-a097-41ef-ed7f-ce305ac7e8d3"
   },
   "outputs": [
    {
     "name": "stdout",
     "output_type": "stream",
     "text": [
      "y_train4: (20000, 4)\n",
      "y_test4: (4000, 4)\n",
      "y_ctrain4: (20000, 4)\n",
      "y_ctest4: (4000, 4)\n"
     ]
    }
   ],
   "source": [
    "# prepare x dataset\n",
    "x_train4 = x_train4.astype('float32')\n",
    "x_test4 = x_test4.astype('float32')\n",
    "x_train4 /= 255\n",
    "x_test4 /= 255\n",
    "\n",
    "# Convert ordinary class vectors to binary class matrices.\n",
    "y_train4 = keras.utils.to_categorical(y_train4, num_classes)\n",
    "y_test4 = keras.utils.to_categorical(y_test4, num_classes)\n",
    "\n",
    "# Convert complementary class vectors to binary class matrices.\n",
    "y_ctrain4 = keras.utils.to_categorical(y_ctrain4, num_classes)\n",
    "y_ctest4 = keras.utils.to_categorical(y_ctest4, num_classes)\n",
    "\n",
    "print('y_train4: {0}\\ny_test4: {1}'.format(y_train4.shape, y_test4.shape))\n",
    "print('y_ctrain4: {0}\\ny_ctest4: {1}'.format(y_ctrain4.shape, y_ctest4.shape))"
   ]
  },
  {
   "cell_type": "code",
   "execution_count": null,
   "metadata": {
    "colab": {
     "autoexec": {
      "startup": false,
      "wait_interval": 0
     }
    },
    "colab_type": "code",
    "id": "v_9QkmeYWOlQ"
   },
   "outputs": [],
   "source": []
  },
  {
   "cell_type": "code",
   "execution_count": null,
   "metadata": {
    "colab": {
     "autoexec": {
      "startup": false,
      "wait_interval": 0
     }
    },
    "colab_type": "code",
    "id": "s6gX5I1kMezQ"
   },
   "outputs": [],
   "source": []
  },
  {
   "cell_type": "code",
   "execution_count": null,
   "metadata": {
    "colab": {
     "autoexec": {
      "startup": false,
      "wait_interval": 0
     }
    },
    "colab_type": "code",
    "id": "8ij4u9sMYl6V"
   },
   "outputs": [],
   "source": []
  },
  {
   "cell_type": "markdown",
   "metadata": {
    "colab_type": "text",
    "id": "5vi-13Di3Qy_"
   },
   "source": [
    "## Convolutional neural network, in VGG"
   ]
  },
  {
   "cell_type": "code",
   "execution_count": 8,
   "metadata": {
    "colab": {
     "autoexec": {
      "startup": false,
      "wait_interval": 0
     }
    },
    "colab_type": "code",
    "id": "KhkC6zFBMezb"
   },
   "outputs": [],
   "source": [
    "# define vgg-like model\n",
    "def vgg(x_train,classes):\n",
    "    inputs = Input(shape=x_train.shape[1:])\n",
    "\n",
    "    x = Conv2D(64, (3,3), padding=\"same\")(inputs)\n",
    "    x = Activation('relu')(x)\n",
    "    x = BatchNormalization()(x)\n",
    "    x = Dropout(0.25)(x)\n",
    "    x = Conv2D(64, (3,3), padding=\"same\")(x)\n",
    "    x = Activation('relu')(x)\n",
    "    x = BatchNormalization()(x)\n",
    "    x = MaxPooling2D((2,2))(x)\n",
    "\n",
    "    x = Conv2D(128, (3,3), padding=\"same\")(x)\n",
    "    x = Activation('relu')(x)\n",
    "    x = BatchNormalization()(x)\n",
    "    x = Dropout(0.25)(x)\n",
    "    x = Conv2D(128, (3,3), padding=\"same\")(x)\n",
    "    x = Activation('relu')(x)\n",
    "    x = BatchNormalization()(x)\n",
    "    x = MaxPooling2D((2,2))(x)\n",
    "\n",
    "    x = Conv2D(256, (3,3), padding=\"same\")(x)\n",
    "    x = Activation('relu')(x)\n",
    "    x = BatchNormalization()(x)\n",
    "    x = Dropout(0.25)(x)\n",
    "    x = Conv2D(256, (3,3), padding=\"same\")(x)\n",
    "    x = Activation('relu')(x)\n",
    "    x = BatchNormalization()(x)\n",
    "    x = MaxPooling2D((2,2))(x)\n",
    "\n",
    "    x = GlobalAveragePooling2D()(x)\n",
    "    x = Dropout(0.5)(x)\n",
    "    x = Dense(classes, activation='softmax')(x)\n",
    "\n",
    "    model = Model(inputs, x)\n",
    "    return model"
   ]
  },
  {
   "cell_type": "markdown",
   "metadata": {
    "colab_type": "text",
    "id": "7h1XjvWk3aGW"
   },
   "source": [
    "### For ordinary classes"
   ]
  },
  {
   "cell_type": "code",
   "execution_count": 9,
   "metadata": {
    "colab": {
     "autoexec": {
      "startup": false,
      "wait_interval": 0
     }
    },
    "colab_type": "code",
    "id": "sjofFvIsNax5"
   },
   "outputs": [],
   "source": [
    "# load model for ordinary class\n",
    "model = vgg(x_train4, num_classes)\n",
    "\n",
    "batch_size = 32\n",
    "epochs = 100"
   ]
  },
  {
   "cell_type": "code",
   "execution_count": 10,
   "metadata": {
    "colab": {
     "autoexec": {
      "startup": false,
      "wait_interval": 0
     }
    },
    "colab_type": "code",
    "id": "Ji-tkT-5YRYL"
   },
   "outputs": [],
   "source": [
    "es_cb = EarlyStopping(monitor='val_loss', patience=3, verbose=1, mode='auto')\n",
    "csv_log = CSVLogger(\"Cifar4_normal.csv\", separator=',', append=True)\n",
    "\n",
    "model.compile(loss='categorical_crossentropy',\n",
    "              optimizer=Adam(lr=0.0001, decay=1e-5, amsgrad=True),\n",
    "              metrics=['accuracy'])"
   ]
  },
  {
   "cell_type": "code",
   "execution_count": 11,
   "metadata": {
    "colab": {
     "autoexec": {
      "startup": false,
      "wait_interval": 0
     }
    },
    "colab_type": "code",
    "id": "0jAm49MgYSqL"
   },
   "outputs": [],
   "source": [
    "# define image generator for data augmentation\n",
    "datagen = ImageDataGenerator(\n",
    "    featurewise_center=False,\n",
    "    samplewise_center=False,\n",
    "    featurewise_std_normalization=False,\n",
    "    samplewise_std_normalization=False, \n",
    "    zca_whitening=False,\n",
    "    rotation_range=15, \n",
    "    width_shift_range=0.1, \n",
    "    height_shift_range=0.1, \n",
    "    horizontal_flip=True,\n",
    "    vertical_flip=False) \n",
    "\n",
    "datagen.fit(x_train4)"
   ]
  },
  {
   "cell_type": "code",
   "execution_count": 12,
   "metadata": {
    "colab": {
     "autoexec": {
      "startup": false,
      "wait_interval": 0
     },
     "base_uri": "https://localhost:8080/",
     "height": 846
    },
    "colab_type": "code",
    "executionInfo": {
     "elapsed": 738072,
     "status": "ok",
     "timestamp": 1527396109533,
     "user": {
      "displayName": "cv usk",
      "photoUrl": "//lh5.googleusercontent.com/--UQyF-cisE4/AAAAAAAAAAI/AAAAAAACcCg/nW1mf571W7o/s50-c-k-no/photo.jpg",
      "userId": "103824322408948109555"
     },
     "user_tz": -540
    },
    "id": "ilKNQV3-N0ca",
    "outputId": "db806d6d-8c54-4baa-cfc3-1de202e55b56",
    "scrolled": true
   },
   "outputs": [
    {
     "name": "stdout",
     "output_type": "stream",
     "text": [
      "WARNING:tensorflow:Variable *= will be deprecated. Use variable.assign_mul if you want assignment to the variable value or 'x = x * y' if you want a new python Tensor object.\n",
      "Epoch 1/100\n",
      "625/625 [==============================] - 34s 55ms/step - loss: 1.1830 - acc: 0.5842 - val_loss: 0.8231 - val_acc: 0.6650\n",
      "Epoch 2/100\n",
      "625/625 [==============================] - 30s 48ms/step - loss: 0.8399 - acc: 0.6821 - val_loss: 0.7002 - val_acc: 0.7212\n",
      "Epoch 3/100\n",
      "625/625 [==============================] - 30s 48ms/step - loss: 0.7169 - acc: 0.7187 - val_loss: 0.7460 - val_acc: 0.7350\n",
      "Epoch 4/100\n",
      "625/625 [==============================] - 30s 49ms/step - loss: 0.6484 - acc: 0.7459 - val_loss: 0.6045 - val_acc: 0.7800\n",
      "Epoch 5/100\n",
      "625/625 [==============================] - 30s 48ms/step - loss: 0.6021 - acc: 0.7671 - val_loss: 0.5197 - val_acc: 0.8025\n",
      "Epoch 6/100\n",
      "625/625 [==============================] - 30s 48ms/step - loss: 0.5656 - acc: 0.7823 - val_loss: 0.5976 - val_acc: 0.7758\n",
      "Epoch 7/100\n",
      "625/625 [==============================] - 30s 48ms/step - loss: 0.5322 - acc: 0.7954 - val_loss: 0.5637 - val_acc: 0.7945\n",
      "Epoch 8/100\n",
      "625/625 [==============================] - 29s 46ms/step - loss: 0.5040 - acc: 0.8055 - val_loss: 0.5066 - val_acc: 0.8095\n",
      "Epoch 9/100\n",
      "625/625 [==============================] - 29s 47ms/step - loss: 0.4850 - acc: 0.8135 - val_loss: 0.4869 - val_acc: 0.8265\n",
      "Epoch 10/100\n",
      "625/625 [==============================] - 30s 49ms/step - loss: 0.4574 - acc: 0.8271 - val_loss: 0.5139 - val_acc: 0.8210\n",
      "Epoch 11/100\n",
      "625/625 [==============================] - 30s 48ms/step - loss: 0.4430 - acc: 0.8324 - val_loss: 0.4422 - val_acc: 0.8360\n",
      "Epoch 12/100\n",
      "625/625 [==============================] - 30s 48ms/step - loss: 0.4285 - acc: 0.8368 - val_loss: 0.5380 - val_acc: 0.8067\n",
      "Epoch 13/100\n",
      "625/625 [==============================] - 30s 48ms/step - loss: 0.4127 - acc: 0.8455 - val_loss: 0.4444 - val_acc: 0.8417\n",
      "Epoch 14/100\n",
      "625/625 [==============================] - 30s 48ms/step - loss: 0.4094 - acc: 0.8433 - val_loss: 0.4360 - val_acc: 0.8438\n",
      "Epoch 15/100\n",
      "625/625 [==============================] - 30s 48ms/step - loss: 0.3860 - acc: 0.8520 - val_loss: 0.4393 - val_acc: 0.8468\n",
      "Epoch 16/100\n",
      "625/625 [==============================] - 30s 48ms/step - loss: 0.3723 - acc: 0.8601 - val_loss: 0.4782 - val_acc: 0.8413\n",
      "Epoch 17/100\n",
      "625/625 [==============================] - 30s 48ms/step - loss: 0.3697 - acc: 0.8599 - val_loss: 0.4615 - val_acc: 0.8480\n",
      "Epoch 00017: early stopping\n"
     ]
    }
   ],
   "source": [
    "# train\n",
    "history = model.fit_generator(datagen.flow(x_train4, y_train4,\n",
    "                                           batch_size=batch_size),\n",
    "                              steps_per_epoch=x_train4.shape[0] // batch_size,\n",
    "                              epochs=epochs,\n",
    "                              validation_data=(x_test4, y_test4),\n",
    "                              callbacks=[es_cb, csv_log])"
   ]
  },
  {
   "cell_type": "markdown",
   "metadata": {
    "colab_type": "text",
    "id": "2an6rin-3waV"
   },
   "source": [
    "### Evaluate ordinary classification"
   ]
  },
  {
   "cell_type": "code",
   "execution_count": 13,
   "metadata": {
    "colab": {
     "autoexec": {
      "startup": false,
      "wait_interval": 0
     },
     "base_uri": "https://localhost:8080/",
     "height": 52
    },
    "colab_type": "code",
    "executionInfo": {
     "elapsed": 2180,
     "status": "ok",
     "timestamp": 1527396154448,
     "user": {
      "displayName": "cv usk",
      "photoUrl": "//lh5.googleusercontent.com/--UQyF-cisE4/AAAAAAAAAAI/AAAAAAACcCg/nW1mf571W7o/s50-c-k-no/photo.jpg",
      "userId": "103824322408948109555"
     },
     "user_tz": -540
    },
    "id": "IwPrXvPFMezf",
    "outputId": "be3ac4fa-f65f-4f2a-de38-6b7ff752c678"
   },
   "outputs": [
    {
     "name": "stdout",
     "output_type": "stream",
     "text": [
      "4000/4000 [==============================] - 1s 340us/step\n",
      "TEST Loss: 0.46153415620327\tAccuracy: 0.848\n"
     ]
    }
   ],
   "source": [
    "# evaluate\n",
    "evaluation = model.evaluate(x_test4, y_test4)\n",
    "print(\"TEST Loss: {0}\\tAccuracy: {1}\".format(evaluation[0], evaluation[1]))"
   ]
  },
  {
   "cell_type": "code",
   "execution_count": null,
   "metadata": {
    "colab": {
     "autoexec": {
      "startup": false,
      "wait_interval": 0
     }
    },
    "colab_type": "code",
    "id": "pAqdFqAbwIYY"
   },
   "outputs": [],
   "source": []
  },
  {
   "cell_type": "markdown",
   "metadata": {
    "colab_type": "text",
    "id": "_-bV4Ci73eMt"
   },
   "source": [
    "### For complementary classes"
   ]
  },
  {
   "cell_type": "code",
   "execution_count": 35,
   "metadata": {
    "colab": {
     "autoexec": {
      "startup": false,
      "wait_interval": 0
     }
    },
    "colab_type": "code",
    "id": "hPY9ZbQVhDXe"
   },
   "outputs": [],
   "source": [
    "cmodel = vgg(x_train4, num_classes)\n",
    "\n",
    "batch_size = 32\n",
    "epochs = 1000"
   ]
  },
  {
   "cell_type": "code",
   "execution_count": 36,
   "metadata": {
    "colab": {
     "autoexec": {
      "startup": false,
      "wait_interval": 0
     }
    },
    "colab_type": "code",
    "id": "cg5u-ZamndA2"
   },
   "outputs": [],
   "source": [
    "def sigmoid_loss(target, output):\n",
    "    return 10 / (1 + math.e ** K.categorical_crossentropy(target, output))"
   ]
  },
  {
   "cell_type": "code",
   "execution_count": 37,
   "metadata": {
    "colab": {
     "autoexec": {
      "startup": false,
      "wait_interval": 0
     }
    },
    "colab_type": "code",
    "id": "RlCKwWCshwk8"
   },
   "outputs": [],
   "source": [
    "def caccuracy(target, output):\n",
    "    return 1 - metrics.categorical_accuracy(target, output)"
   ]
  },
  {
   "cell_type": "code",
   "execution_count": 38,
   "metadata": {
    "colab": {
     "autoexec": {
      "startup": false,
      "wait_interval": 0
     }
    },
    "colab_type": "code",
    "id": "UQZlyZS0aJ41"
   },
   "outputs": [],
   "source": [
    "es_cb = EarlyStopping(monitor='val_loss', patience=7, verbose=1, mode='auto')\n",
    "csv_log = CSVLogger(\"Cifar4_complementary.csv\", separator=',', append=True)\n",
    "\n",
    "cmodel.compile(loss=sigmoid_loss,\n",
    "               optimizer=Adam(lr=0.00001, decay=1e-6, amsgrad=True),\n",
    "               metrics=[caccuracy])"
   ]
  },
  {
   "cell_type": "code",
   "execution_count": 39,
   "metadata": {
    "colab": {
     "autoexec": {
      "startup": false,
      "wait_interval": 0
     }
    },
    "colab_type": "code",
    "id": "0adhYVzYMez0"
   },
   "outputs": [],
   "source": [
    "datagen = ImageDataGenerator(\n",
    "    featurewise_center=False,\n",
    "    samplewise_center=False,\n",
    "    featurewise_std_normalization=False,\n",
    "    samplewise_std_normalization=False, \n",
    "    zca_whitening=False,\n",
    "    rotation_range=15, \n",
    "    width_shift_range=0.1, \n",
    "    height_shift_range=0.1, \n",
    "    horizontal_flip=True,\n",
    "    vertical_flip=False) \n",
    "\n",
    "datagen.fit(x_train4)"
   ]
  },
  {
   "cell_type": "code",
   "execution_count": 40,
   "metadata": {
    "colab": {
     "autoexec": {
      "startup": false,
      "wait_interval": 0
     },
     "base_uri": "https://localhost:8080/",
     "height": 3130
    },
    "colab_type": "code",
    "executionInfo": {
     "elapsed": 23852,
     "status": "error",
     "timestamp": 1527396192110,
     "user": {
      "displayName": "cv usk",
      "photoUrl": "//lh5.googleusercontent.com/--UQyF-cisE4/AAAAAAAAAAI/AAAAAAACcCg/nW1mf571W7o/s50-c-k-no/photo.jpg",
      "userId": "103824322408948109555"
     },
     "user_tz": -540
    },
    "id": "GRxLCOLUPD8T",
    "outputId": "874fa4c0-a786-4fbd-d599-e98667637651",
    "scrolled": true
   },
   "outputs": [
    {
     "name": "stdout",
     "output_type": "stream",
     "text": [
      "Epoch 1/1000\n",
      "625/625 [==============================] - 40s 64ms/step - loss: 1.5221 - caccuracy: 0.7636 - val_loss: 1.5892 - val_caccuracy: 0.7690\n",
      "Epoch 2/1000\n",
      "625/625 [==============================] - 30s 48ms/step - loss: 1.4241 - caccuracy: 0.7686 - val_loss: 1.4533 - val_caccuracy: 0.7702\n",
      "Epoch 3/1000\n",
      "625/625 [==============================] - 30s 48ms/step - loss: 1.3455 - caccuracy: 0.7742 - val_loss: 1.3717 - val_caccuracy: 0.7705\n",
      "Epoch 4/1000\n",
      "625/625 [==============================] - 30s 48ms/step - loss: 1.2777 - caccuracy: 0.7822 - val_loss: 1.3133 - val_caccuracy: 0.7708\n",
      "Epoch 5/1000\n",
      "625/625 [==============================] - 30s 48ms/step - loss: 1.2205 - caccuracy: 0.7915 - val_loss: 1.2772 - val_caccuracy: 0.7760\n",
      "Epoch 6/1000\n",
      "625/625 [==============================] - 30s 48ms/step - loss: 1.1814 - caccuracy: 0.7969 - val_loss: 1.2518 - val_caccuracy: 0.7788\n",
      "Epoch 7/1000\n",
      "625/625 [==============================] - 30s 48ms/step - loss: 1.1416 - caccuracy: 0.8028 - val_loss: 1.2237 - val_caccuracy: 0.7802\n",
      "Epoch 8/1000\n",
      "625/625 [==============================] - 30s 48ms/step - loss: 1.1116 - caccuracy: 0.8074 - val_loss: 1.2073 - val_caccuracy: 0.7825\n",
      "Epoch 9/1000\n",
      "625/625 [==============================] - 30s 48ms/step - loss: 1.0835 - caccuracy: 0.8087 - val_loss: 1.1888 - val_caccuracy: 0.7877\n",
      "Epoch 10/1000\n",
      "625/625 [==============================] - 30s 48ms/step - loss: 1.0751 - caccuracy: 0.8085 - val_loss: 1.1718 - val_caccuracy: 0.7920\n",
      "Epoch 11/1000\n",
      "625/625 [==============================] - 30s 48ms/step - loss: 1.0501 - caccuracy: 0.8128 - val_loss: 1.1639 - val_caccuracy: 0.7913\n",
      "Epoch 12/1000\n",
      "625/625 [==============================] - 30s 48ms/step - loss: 1.0302 - caccuracy: 0.8179 - val_loss: 1.1496 - val_caccuracy: 0.7980\n",
      "Epoch 13/1000\n",
      "625/625 [==============================] - 30s 48ms/step - loss: 1.0197 - caccuracy: 0.8188 - val_loss: 1.1335 - val_caccuracy: 0.8020\n",
      "Epoch 14/1000\n",
      "625/625 [==============================] - 30s 48ms/step - loss: 1.0087 - caccuracy: 0.8217 - val_loss: 1.1261 - val_caccuracy: 0.8037\n",
      "Epoch 15/1000\n",
      "625/625 [==============================] - 30s 48ms/step - loss: 0.9950 - caccuracy: 0.8210 - val_loss: 1.1158 - val_caccuracy: 0.8063\n",
      "Epoch 16/1000\n",
      "625/625 [==============================] - 30s 48ms/step - loss: 0.9823 - caccuracy: 0.8250 - val_loss: 1.1022 - val_caccuracy: 0.8070\n",
      "Epoch 17/1000\n",
      "625/625 [==============================] - 30s 48ms/step - loss: 0.9872 - caccuracy: 0.8226 - val_loss: 1.0914 - val_caccuracy: 0.8090\n",
      "Epoch 18/1000\n",
      "625/625 [==============================] - 30s 48ms/step - loss: 0.9794 - caccuracy: 0.8235 - val_loss: 1.0820 - val_caccuracy: 0.8120\n",
      "Epoch 19/1000\n",
      "625/625 [==============================] - 30s 48ms/step - loss: 0.9674 - caccuracy: 0.8255 - val_loss: 1.0751 - val_caccuracy: 0.8103\n",
      "Epoch 20/1000\n",
      "625/625 [==============================] - 30s 48ms/step - loss: 0.9654 - caccuracy: 0.8261 - val_loss: 1.0738 - val_caccuracy: 0.8097\n",
      "Epoch 21/1000\n",
      "625/625 [==============================] - 30s 48ms/step - loss: 0.9423 - caccuracy: 0.8298 - val_loss: 1.0554 - val_caccuracy: 0.8133\n",
      "Epoch 22/1000\n",
      "625/625 [==============================] - 30s 48ms/step - loss: 0.9569 - caccuracy: 0.8267 - val_loss: 1.0443 - val_caccuracy: 0.8157\n",
      "Epoch 23/1000\n",
      "625/625 [==============================] - 30s 48ms/step - loss: 0.9424 - caccuracy: 0.8289 - val_loss: 1.0420 - val_caccuracy: 0.8175\n",
      "Epoch 24/1000\n",
      "625/625 [==============================] - 30s 48ms/step - loss: 0.9341 - caccuracy: 0.8304 - val_loss: 1.0337 - val_caccuracy: 0.8203\n",
      "Epoch 25/1000\n",
      "625/625 [==============================] - 30s 48ms/step - loss: 0.9355 - caccuracy: 0.8295 - val_loss: 1.0299 - val_caccuracy: 0.8185\n",
      "Epoch 26/1000\n",
      "625/625 [==============================] - 30s 48ms/step - loss: 0.9234 - caccuracy: 0.8323 - val_loss: 1.0239 - val_caccuracy: 0.8213\n",
      "Epoch 27/1000\n",
      "625/625 [==============================] - 30s 48ms/step - loss: 0.9341 - caccuracy: 0.8302 - val_loss: 1.0079 - val_caccuracy: 0.8240\n",
      "Epoch 28/1000\n",
      "625/625 [==============================] - 30s 48ms/step - loss: 0.9123 - caccuracy: 0.8332 - val_loss: 1.0050 - val_caccuracy: 0.8243\n",
      "Epoch 29/1000\n",
      "625/625 [==============================] - 30s 49ms/step - loss: 0.9291 - caccuracy: 0.8298 - val_loss: 0.9916 - val_caccuracy: 0.8253\n",
      "Epoch 30/1000\n",
      "625/625 [==============================] - 30s 49ms/step - loss: 0.9130 - caccuracy: 0.8327 - val_loss: 0.9893 - val_caccuracy: 0.8275\n",
      "Epoch 31/1000\n",
      "625/625 [==============================] - 30s 48ms/step - loss: 0.9057 - caccuracy: 0.8337 - val_loss: 0.9807 - val_caccuracy: 0.8267\n",
      "Epoch 32/1000\n",
      "625/625 [==============================] - 30s 48ms/step - loss: 0.9061 - caccuracy: 0.8337 - val_loss: 0.9834 - val_caccuracy: 0.8245\n",
      "Epoch 33/1000\n",
      "625/625 [==============================] - 30s 48ms/step - loss: 0.9121 - caccuracy: 0.8329 - val_loss: 0.9767 - val_caccuracy: 0.8277\n",
      "Epoch 34/1000\n",
      "625/625 [==============================] - 30s 48ms/step - loss: 0.9012 - caccuracy: 0.8344 - val_loss: 0.9680 - val_caccuracy: 0.8287\n",
      "Epoch 35/1000\n",
      "625/625 [==============================] - 30s 48ms/step - loss: 0.9038 - caccuracy: 0.8337 - val_loss: 0.9631 - val_caccuracy: 0.8293\n",
      "Epoch 36/1000\n",
      "625/625 [==============================] - 30s 48ms/step - loss: 0.8906 - caccuracy: 0.8370 - val_loss: 0.9603 - val_caccuracy: 0.8283\n",
      "Epoch 37/1000\n",
      "625/625 [==============================] - 30s 48ms/step - loss: 0.8984 - caccuracy: 0.8341 - val_loss: 0.9527 - val_caccuracy: 0.8307\n",
      "Epoch 38/1000\n",
      "625/625 [==============================] - 30s 48ms/step - loss: 0.8841 - caccuracy: 0.8370 - val_loss: 0.9492 - val_caccuracy: 0.8297\n",
      "Epoch 39/1000\n",
      "625/625 [==============================] - 31s 49ms/step - loss: 0.8827 - caccuracy: 0.8360 - val_loss: 0.9416 - val_caccuracy: 0.8307\n",
      "Epoch 40/1000\n",
      "625/625 [==============================] - 30s 48ms/step - loss: 0.8827 - caccuracy: 0.8387 - val_loss: 0.9277 - val_caccuracy: 0.8350\n",
      "Epoch 41/1000\n",
      "625/625 [==============================] - 30s 48ms/step - loss: 0.8826 - caccuracy: 0.8377 - val_loss: 0.9173 - val_caccuracy: 0.8393\n",
      "Epoch 42/1000\n",
      "625/625 [==============================] - 30s 48ms/step - loss: 0.8717 - caccuracy: 0.8402 - val_loss: 0.9110 - val_caccuracy: 0.8407\n",
      "Epoch 43/1000\n",
      "625/625 [==============================] - 30s 48ms/step - loss: 0.8730 - caccuracy: 0.8387 - val_loss: 0.9065 - val_caccuracy: 0.8410\n",
      "Epoch 44/1000\n",
      "625/625 [==============================] - 30s 48ms/step - loss: 0.8664 - caccuracy: 0.8422 - val_loss: 0.8912 - val_caccuracy: 0.8462\n",
      "Epoch 45/1000\n",
      "625/625 [==============================] - 30s 48ms/step - loss: 0.8477 - caccuracy: 0.8473 - val_loss: 0.8693 - val_caccuracy: 0.8488\n",
      "Epoch 46/1000\n",
      "625/625 [==============================] - 30s 48ms/step - loss: 0.8339 - caccuracy: 0.8498 - val_loss: 0.8493 - val_caccuracy: 0.8540\n",
      "Epoch 47/1000\n",
      "625/625 [==============================] - 30s 48ms/step - loss: 0.8076 - caccuracy: 0.8550 - val_loss: 0.8183 - val_caccuracy: 0.8592\n",
      "Epoch 48/1000\n",
      "625/625 [==============================] - 30s 48ms/step - loss: 0.7764 - caccuracy: 0.8619 - val_loss: 0.7993 - val_caccuracy: 0.8638\n",
      "Epoch 49/1000\n",
      "625/625 [==============================] - 30s 49ms/step - loss: 0.7674 - caccuracy: 0.8640 - val_loss: 0.7849 - val_caccuracy: 0.8678\n",
      "Epoch 50/1000\n",
      "625/625 [==============================] - 30s 49ms/step - loss: 0.7477 - caccuracy: 0.8688 - val_loss: 0.7770 - val_caccuracy: 0.8675\n",
      "Epoch 51/1000\n",
      "625/625 [==============================] - 30s 48ms/step - loss: 0.7342 - caccuracy: 0.8716 - val_loss: 0.7673 - val_caccuracy: 0.8678\n",
      "Epoch 52/1000\n",
      "625/625 [==============================] - 30s 48ms/step - loss: 0.7421 - caccuracy: 0.8692 - val_loss: 0.7594 - val_caccuracy: 0.8688\n",
      "Epoch 53/1000\n",
      "625/625 [==============================] - 30s 48ms/step - loss: 0.7423 - caccuracy: 0.8690 - val_loss: 0.7515 - val_caccuracy: 0.8702\n",
      "Epoch 54/1000\n",
      "625/625 [==============================] - 30s 48ms/step - loss: 0.7343 - caccuracy: 0.8693 - val_loss: 0.7498 - val_caccuracy: 0.8710\n",
      "Epoch 55/1000\n",
      "625/625 [==============================] - 30s 48ms/step - loss: 0.7267 - caccuracy: 0.8713 - val_loss: 0.7398 - val_caccuracy: 0.8742\n",
      "Epoch 56/1000\n"
     ]
    },
    {
     "name": "stdout",
     "output_type": "stream",
     "text": [
      "625/625 [==============================] - 30s 49ms/step - loss: 0.7287 - caccuracy: 0.8715 - val_loss: 0.7366 - val_caccuracy: 0.8755\n",
      "Epoch 57/1000\n",
      "625/625 [==============================] - 30s 48ms/step - loss: 0.7170 - caccuracy: 0.8739 - val_loss: 0.7402 - val_caccuracy: 0.8725\n",
      "Epoch 58/1000\n",
      "625/625 [==============================] - 30s 48ms/step - loss: 0.7174 - caccuracy: 0.8746 - val_loss: 0.7325 - val_caccuracy: 0.8725\n",
      "Epoch 59/1000\n",
      "625/625 [==============================] - 30s 48ms/step - loss: 0.7173 - caccuracy: 0.8737 - val_loss: 0.7294 - val_caccuracy: 0.8755\n",
      "Epoch 60/1000\n",
      "625/625 [==============================] - 30s 48ms/step - loss: 0.7146 - caccuracy: 0.8737 - val_loss: 0.7312 - val_caccuracy: 0.8735\n",
      "Epoch 61/1000\n",
      "625/625 [==============================] - 30s 48ms/step - loss: 0.7112 - caccuracy: 0.8725 - val_loss: 0.7226 - val_caccuracy: 0.8752\n",
      "Epoch 62/1000\n",
      "625/625 [==============================] - 30s 48ms/step - loss: 0.7060 - caccuracy: 0.8749 - val_loss: 0.7171 - val_caccuracy: 0.8768\n",
      "Epoch 63/1000\n",
      "625/625 [==============================] - 30s 48ms/step - loss: 0.7097 - caccuracy: 0.8740 - val_loss: 0.7161 - val_caccuracy: 0.8768\n",
      "Epoch 64/1000\n",
      "625/625 [==============================] - 30s 48ms/step - loss: 0.7079 - caccuracy: 0.8742 - val_loss: 0.7170 - val_caccuracy: 0.8760\n",
      "Epoch 65/1000\n",
      "625/625 [==============================] - 30s 48ms/step - loss: 0.7078 - caccuracy: 0.8740 - val_loss: 0.7183 - val_caccuracy: 0.8740\n",
      "Epoch 66/1000\n",
      "625/625 [==============================] - 30s 48ms/step - loss: 0.6982 - caccuracy: 0.8763 - val_loss: 0.7103 - val_caccuracy: 0.8752\n",
      "Epoch 67/1000\n",
      "625/625 [==============================] - 30s 48ms/step - loss: 0.6924 - caccuracy: 0.8763 - val_loss: 0.7132 - val_caccuracy: 0.8752\n",
      "Epoch 68/1000\n",
      "625/625 [==============================] - 30s 48ms/step - loss: 0.6928 - caccuracy: 0.8769 - val_loss: 0.7056 - val_caccuracy: 0.8745\n",
      "Epoch 69/1000\n",
      "625/625 [==============================] - 30s 48ms/step - loss: 0.7005 - caccuracy: 0.8749 - val_loss: 0.7107 - val_caccuracy: 0.8752\n",
      "Epoch 70/1000\n",
      "625/625 [==============================] - 30s 48ms/step - loss: 0.7026 - caccuracy: 0.8743 - val_loss: 0.7124 - val_caccuracy: 0.8740\n",
      "Epoch 71/1000\n",
      "625/625 [==============================] - 30s 48ms/step - loss: 0.6963 - caccuracy: 0.8761 - val_loss: 0.7069 - val_caccuracy: 0.8760\n",
      "Epoch 72/1000\n",
      "625/625 [==============================] - 30s 48ms/step - loss: 0.6889 - caccuracy: 0.8762 - val_loss: 0.7111 - val_caccuracy: 0.8728\n",
      "Epoch 73/1000\n",
      "625/625 [==============================] - 30s 48ms/step - loss: 0.6824 - caccuracy: 0.8778 - val_loss: 0.7084 - val_caccuracy: 0.8735\n",
      "Epoch 74/1000\n",
      "625/625 [==============================] - 30s 48ms/step - loss: 0.6800 - caccuracy: 0.8784 - val_loss: 0.7087 - val_caccuracy: 0.8732\n",
      "Epoch 75/1000\n",
      "625/625 [==============================] - 30s 48ms/step - loss: 0.6856 - caccuracy: 0.8772 - val_loss: 0.7066 - val_caccuracy: 0.8752\n",
      "Epoch 00075: early stopping\n"
     ]
    }
   ],
   "source": [
    "history = cmodel.fit_generator(datagen.flow(x_train4, y_ctrain4,\n",
    "                                            batch_size=batch_size),\n",
    "                               steps_per_epoch=x_train4.shape[0] // batch_size,\n",
    "                               epochs=epochs,\n",
    "                               validation_data=(x_test4, y_ctest4),\n",
    "                               callbacks=[es_cb, csv_log])"
   ]
  },
  {
   "cell_type": "code",
   "execution_count": 41,
   "metadata": {
    "colab": {
     "autoexec": {
      "startup": false,
      "wait_interval": 0
     }
    },
    "colab_type": "code",
    "id": "2juEWtGGoxG5"
   },
   "outputs": [
    {
     "name": "stdout",
     "output_type": "stream",
     "text": [
      "TEST Accuracy: 0.62125\n"
     ]
    }
   ],
   "source": [
    "cpred = cmodel.predict(x_test4)\n",
    "\n",
    "score = 0\n",
    "for i in range(len(y_test4)):\n",
    "    if np.argmax(y_test4[i]) == np.argmax(cpred[i]):\n",
    "        score += 1\n",
    "print(\"TEST Accuracy: {0}\".format(score / len(y_test4)))"
   ]
  },
  {
   "cell_type": "code",
   "execution_count": null,
   "metadata": {
    "colab": {
     "autoexec": {
      "startup": false,
      "wait_interval": 0
     }
    },
    "colab_type": "code",
    "id": "s9dNYjLqiLr7"
   },
   "outputs": [],
   "source": []
  },
  {
   "cell_type": "code",
   "execution_count": null,
   "metadata": {
    "colab": {
     "autoexec": {
      "startup": false,
      "wait_interval": 0
     }
    },
    "colab_type": "code",
    "id": "JP3JTjrPoxEM"
   },
   "outputs": [],
   "source": []
  },
  {
   "cell_type": "code",
   "execution_count": null,
   "metadata": {
    "colab": {
     "autoexec": {
      "startup": false,
      "wait_interval": 0
     }
    },
    "colab_type": "code",
    "id": "4AdwNz7To5L0"
   },
   "outputs": [],
   "source": []
  },
  {
   "cell_type": "code",
   "execution_count": null,
   "metadata": {
    "colab": {
     "autoexec": {
      "startup": false,
      "wait_interval": 0
     }
    },
    "colab_type": "code",
    "id": "agB4nslIpFUy"
   },
   "outputs": [],
   "source": []
  }
 ],
 "metadata": {
  "accelerator": "GPU",
  "colab": {
   "collapsed_sections": [],
   "default_view": {},
   "name": "cifar10_complementary4.ipynb",
   "provenance": [],
   "version": "0.3.2",
   "views": {}
  },
  "kernelspec": {
   "display_name": "Python 3",
   "language": "python",
   "name": "python3"
  },
  "language_info": {
   "codemirror_mode": {
    "name": "ipython",
    "version": 3
   },
   "file_extension": ".py",
   "mimetype": "text/x-python",
   "name": "python",
   "nbconvert_exporter": "python",
   "pygments_lexer": "ipython3",
   "version": "3.6.4"
  }
 },
 "nbformat": 4,
 "nbformat_minor": 1
}
