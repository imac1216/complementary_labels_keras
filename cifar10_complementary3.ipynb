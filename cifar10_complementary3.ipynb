{
 "cells": [
  {
   "cell_type": "markdown",
   "metadata": {},
   "source": [
    "# Learning from complementary labels, for Cifar10 with 3 labels"
   ]
  },
  {
   "cell_type": "code",
   "execution_count": 1,
   "metadata": {
    "colab": {
     "autoexec": {
      "startup": false,
      "wait_interval": 0
     }
    },
    "colab_type": "code",
    "id": "AIPHvJVbMey-"
   },
   "outputs": [
    {
     "name": "stderr",
     "output_type": "stream",
     "text": [
      "/opt/anaconda3/lib/python3.6/site-packages/h5py/__init__.py:36: FutureWarning: Conversion of the second argument of issubdtype from `float` to `np.floating` is deprecated. In future, it will be treated as `np.float64 == np.dtype(float).type`.\n",
      "  from ._conv import register_converters as _register_converters\n",
      "Using TensorFlow backend.\n"
     ]
    }
   ],
   "source": [
    "import keras\n",
    "from keras.layers import Dense, Conv2D, BatchNormalization, Activation, MaxPooling2D\n",
    "from keras.layers import Input, GlobalAveragePooling2D, Dropout\n",
    "from keras.optimizers import Adam\n",
    "from keras.preprocessing.image import ImageDataGenerator\n",
    "from keras import backend as K\n",
    "from keras.models import Model\n",
    "from keras.datasets import cifar10\n",
    "from keras.callbacks import EarlyStopping, CSVLogger\n",
    "from keras import metrics\n",
    "\n",
    "import os\n",
    "import numpy as np\n",
    "import math"
   ]
  },
  {
   "cell_type": "markdown",
   "metadata": {},
   "source": [
    "## Experiment with three classes"
   ]
  },
  {
   "cell_type": "code",
   "execution_count": 2,
   "metadata": {
    "colab": {
     "autoexec": {
      "startup": false,
      "wait_interval": 0
     }
    },
    "colab_type": "code",
    "id": "W09cbkbEMezE"
   },
   "outputs": [],
   "source": [
    "num_classes = 3"
   ]
  },
  {
   "cell_type": "markdown",
   "metadata": {
    "colab": {
     "autoexec": {
      "startup": false,
      "wait_interval": 0
     }
    },
    "colab_type": "code",
    "id": "LUu1pAKHMezG"
   },
   "source": [
    "### Prepare dataset"
   ]
  },
  {
   "cell_type": "code",
   "execution_count": 3,
   "metadata": {
    "colab": {
     "autoexec": {
      "startup": false,
      "wait_interval": 0
     },
     "base_uri": "https://localhost:8080/",
     "height": 70
    },
    "colab_type": "code",
    "executionInfo": {
     "elapsed": 645,
     "status": "ok",
     "timestamp": 1527392112845,
     "user": {
      "displayName": "cv usk",
      "photoUrl": "//lh5.googleusercontent.com/--UQyF-cisE4/AAAAAAAAAAI/AAAAAAACcCg/nW1mf571W7o/s50-c-k-no/photo.jpg",
      "userId": "103824322408948109555"
     },
     "user_tz": -540
    },
    "id": "iQq4cQ6PMezI",
    "outputId": "0f33db2a-3afb-406c-b27c-6fe1572f9664"
   },
   "outputs": [
    {
     "name": "stdout",
     "output_type": "stream",
     "text": [
      "x_train shape: (50000, 32, 32, 3)\n",
      "50000 train samples\n",
      "10000 test samples\n"
     ]
    }
   ],
   "source": [
    "# load dataset\n",
    "(x_train, y_train), (x_test, y_test) = cifar10.load_data()\n",
    "print('x_train shape:', x_train.shape)\n",
    "print(x_train.shape[0], 'train samples')\n",
    "print(x_test.shape[0], 'test samples')"
   ]
  },
  {
   "cell_type": "code",
   "execution_count": 5,
   "metadata": {
    "colab": {
     "autoexec": {
      "startup": false,
      "wait_interval": 0
     }
    },
    "colab_type": "code",
    "id": "YPj-m1AeVs4e"
   },
   "outputs": [],
   "source": [
    "# generate complementary labels for training targets\n",
    "y_train3_pos = np.where(y_train<=2)[0]\n",
    "x_train3 = x_train[y_train3_pos]\n",
    "y_train3 = y_train[y_train3_pos]\n",
    "\n",
    "y_ctrain3 = np.zeros(len(y_train3)).reshape(len(y_train3), 1)\n",
    "for i,v in enumerate(y_train3):\n",
    "    if v == 0:\n",
    "        y_ctrain3[i] = np.random.choice([1,2],1)\n",
    "    elif v == 1:\n",
    "        y_ctrain3[i] = np.random.choice([0,2],1)\n",
    "    elif v == 2:\n",
    "        y_ctrain3[i] = np.random.choice([0,1],1)"
   ]
  },
  {
   "cell_type": "code",
   "execution_count": 6,
   "metadata": {
    "colab": {
     "autoexec": {
      "startup": false,
      "wait_interval": 0
     }
    },
    "colab_type": "code",
    "id": "vr-s0ZnwVs7X"
   },
   "outputs": [],
   "source": [
    "# generate complementary labels for test targets\n",
    "y_test3_pos = np.where(y_test<=2)[0]\n",
    "x_test3 = x_test[y_test3_pos]\n",
    "y_test3 = y_test[y_test3_pos]\n",
    "\n",
    "y_ctest3 = np.zeros(len(y_test3)).reshape(len(y_test3), 1)\n",
    "for i,v in enumerate(y_test3):\n",
    "    if v == 0:\n",
    "        y_ctest3[i] = np.random.choice([1,2],1)\n",
    "    elif v == 1:\n",
    "        y_ctest3[i] = np.random.choice([0,2],1)\n",
    "    elif v == 2:\n",
    "        y_ctest3[i] = np.random.choice([0,1],1)"
   ]
  },
  {
   "cell_type": "code",
   "execution_count": 7,
   "metadata": {
    "colab": {
     "autoexec": {
      "startup": false,
      "wait_interval": 0
     },
     "base_uri": "https://localhost:8080/",
     "height": 122
    },
    "colab_type": "code",
    "executionInfo": {
     "elapsed": 571,
     "status": "ok",
     "timestamp": 1527392115299,
     "user": {
      "displayName": "cv usk",
      "photoUrl": "//lh5.googleusercontent.com/--UQyF-cisE4/AAAAAAAAAAI/AAAAAAACcCg/nW1mf571W7o/s50-c-k-no/photo.jpg",
      "userId": "103824322408948109555"
     },
     "user_tz": -540
    },
    "id": "x4YjQUf8UhHi",
    "outputId": "54b9b8f2-107a-4163-826d-4976641ed0b1"
   },
   "outputs": [
    {
     "name": "stdout",
     "output_type": "stream",
     "text": [
      "x_train3 shape: (15000, 32, 32, 3)\n",
      "y_ctrain3 shape: (15000, 1)\n",
      "x_test3 shape: (3000, 32, 32, 3)\n",
      "y_ctest3 shape: (3000, 1)\n",
      "15000 train3 samples\n",
      "3000 test3 samples\n"
     ]
    }
   ],
   "source": [
    "print('x_train3 shape:', x_train3.shape)\n",
    "print('y_ctrain3 shape:', y_ctrain3.shape)\n",
    "print('x_test3 shape:', x_test3.shape)\n",
    "print('y_ctest3 shape:', y_ctest3.shape)\n",
    "print(x_train3.shape[0], 'train3 samples')\n",
    "print(x_test3.shape[0], 'test3 samples')"
   ]
  },
  {
   "cell_type": "code",
   "execution_count": 8,
   "metadata": {
    "colab": {
     "autoexec": {
      "startup": false,
      "wait_interval": 0
     },
     "base_uri": "https://localhost:8080/",
     "height": 87
    },
    "colab_type": "code",
    "executionInfo": {
     "elapsed": 673,
     "status": "ok",
     "timestamp": 1527392116057,
     "user": {
      "displayName": "cv usk",
      "photoUrl": "//lh5.googleusercontent.com/--UQyF-cisE4/AAAAAAAAAAI/AAAAAAACcCg/nW1mf571W7o/s50-c-k-no/photo.jpg",
      "userId": "103824322408948109555"
     },
     "user_tz": -540
    },
    "id": "kz2x7cHPMezN",
    "outputId": "152898c0-e568-43ba-a155-e5f141746570"
   },
   "outputs": [
    {
     "name": "stdout",
     "output_type": "stream",
     "text": [
      "y_train3: (15000, 3)\n",
      "y_test3: (3000, 3)\n",
      "y_ctrain3: (15000, 3)\n",
      "y_ctest3: (3000, 3)\n"
     ]
    }
   ],
   "source": [
    "# prepare x dataset\n",
    "x_train3 = x_train3.astype('float32')\n",
    "x_test3 = x_test3.astype('float32')\n",
    "x_train3 /= 255\n",
    "x_test3 /= 255\n",
    "\n",
    "# Convert ordinary class vectors to binary class matrices.\n",
    "y_train3 = keras.utils.to_categorical(y_train3, num_classes)\n",
    "y_test3 = keras.utils.to_categorical(y_test3, num_classes)\n",
    "\n",
    "# Convert complementary class vectors to binary class matrices.\n",
    "y_ctrain3 = keras.utils.to_categorical(y_ctrain3, num_classes)\n",
    "y_ctest3 = keras.utils.to_categorical(y_ctest3, num_classes)\n",
    "\n",
    "print('y_train3: {0}\\ny_test3: {1}'.format(y_train3.shape, y_test3.shape))\n",
    "print('y_ctrain3: {0}\\ny_ctest3: {1}'.format(y_ctrain3.shape, y_ctest3.shape))"
   ]
  },
  {
   "cell_type": "code",
   "execution_count": 0,
   "metadata": {
    "colab": {
     "autoexec": {
      "startup": false,
      "wait_interval": 0
     }
    },
    "colab_type": "code",
    "id": "v_9QkmeYWOlQ"
   },
   "outputs": [],
   "source": []
  },
  {
   "cell_type": "code",
   "execution_count": 0,
   "metadata": {
    "colab": {
     "autoexec": {
      "startup": false,
      "wait_interval": 0
     }
    },
    "colab_type": "code",
    "id": "s6gX5I1kMezQ"
   },
   "outputs": [],
   "source": []
  },
  {
   "cell_type": "code",
   "execution_count": 0,
   "metadata": {
    "colab": {
     "autoexec": {
      "startup": false,
      "wait_interval": 0
     }
    },
    "colab_type": "code",
    "id": "8ij4u9sMYl6V"
   },
   "outputs": [],
   "source": []
  },
  {
   "cell_type": "markdown",
   "metadata": {
    "colab": {
     "autoexec": {
      "startup": false,
      "wait_interval": 0
     }
    },
    "colab_type": "code",
    "id": "Cw28A68gVQxA"
   },
   "source": [
    "## Convolutional neural network, in VGG"
   ]
  },
  {
   "cell_type": "code",
   "execution_count": 38,
   "metadata": {
    "colab": {
     "autoexec": {
      "startup": false,
      "wait_interval": 0
     }
    },
    "colab_type": "code",
    "id": "KhkC6zFBMezb"
   },
   "outputs": [],
   "source": [
    "def vgg(x_train,classes):\n",
    "    inputs = Input(shape=x_train.shape[1:])\n",
    "\n",
    "    x = Conv2D(64, (3,3), padding=\"same\")(inputs)\n",
    "    x = Activation('relu')(x)\n",
    "    x = BatchNormalization()(x)\n",
    "    x = Dropout(0.25)(x)\n",
    "    x = Conv2D(64, (3,3), padding=\"same\")(x)\n",
    "    x = Activation('relu')(x)\n",
    "    x = BatchNormalization()(x)\n",
    "    x = MaxPooling2D((2,2))(x)\n",
    "\n",
    "    x = Conv2D(128, (3,3), padding=\"same\")(x)\n",
    "    x = Activation('relu')(x)\n",
    "    x = BatchNormalization()(x)\n",
    "    x = Dropout(0.25)(x)\n",
    "    x = Conv2D(128, (3,3), padding=\"same\")(x)\n",
    "    x = Activation('relu')(x)\n",
    "    x = BatchNormalization()(x)\n",
    "    x = MaxPooling2D((2,2))(x)\n",
    "\n",
    "    x = Conv2D(256, (3,3), padding=\"same\")(x)\n",
    "    x = Activation('relu')(x)\n",
    "    x = BatchNormalization()(x)\n",
    "    x = Dropout(0.25)(x)\n",
    "    x = Conv2D(256, (3,3), padding=\"same\")(x)\n",
    "    x = Activation('relu')(x)\n",
    "    x = BatchNormalization()(x)\n",
    "    x = MaxPooling2D((2,2))(x)\n",
    "\n",
    "    x = GlobalAveragePooling2D()(x)\n",
    "    x = Dropout(0.5)(x)\n",
    "    x = Dense(classes, activation='softmax')(x)\n",
    "\n",
    "    model = Model(inputs, x)\n",
    "    return model"
   ]
  },
  {
   "cell_type": "markdown",
   "metadata": {},
   "source": [
    "### For ordinary classes"
   ]
  },
  {
   "cell_type": "code",
   "execution_count": 41,
   "metadata": {
    "colab": {
     "autoexec": {
      "startup": false,
      "wait_interval": 0
     }
    },
    "colab_type": "code",
    "id": "rOVUFqWWOyZW"
   },
   "outputs": [],
   "source": [
    "# load model for ordinary class\n",
    "model = vgg(x_train3, num_classes)\n",
    "\n",
    "batch_size = 32\n",
    "epochs = 100"
   ]
  },
  {
   "cell_type": "code",
   "execution_count": 40,
   "metadata": {
    "colab": {
     "autoexec": {
      "startup": false,
      "wait_interval": 0
     }
    },
    "colab_type": "code",
    "id": "Ji-tkT-5YRYL"
   },
   "outputs": [],
   "source": [
    "es_cb = EarlyStopping(monitor='val_loss', patience=3, verbose=1, mode='auto')\n",
    "csv_log = CSVLogger(\"Cifar3_normal.csv\", separator=',', append=True)\n",
    "\n",
    "model.compile(loss='categorical_crossentropy',\n",
    "              optimizer=Adam(lr=0.0001, decay=1e-5, amsgrad=True),\n",
    "              metrics=['accuracy'])"
   ]
  },
  {
   "cell_type": "code",
   "execution_count": 42,
   "metadata": {
    "colab": {
     "autoexec": {
      "startup": false,
      "wait_interval": 0
     }
    },
    "colab_type": "code",
    "id": "0jAm49MgYSqL"
   },
   "outputs": [],
   "source": [
    "# define image generator for data augmentation\n",
    "datagen = ImageDataGenerator(\n",
    "    featurewise_center=False,\n",
    "    samplewise_center=False,\n",
    "    featurewise_std_normalization=False,\n",
    "    samplewise_std_normalization=False, \n",
    "    zca_whitening=False,\n",
    "    rotation_range=15, \n",
    "    width_shift_range=0.1, \n",
    "    height_shift_range=0.1, \n",
    "    horizontal_flip=True,\n",
    "    vertical_flip=False) \n",
    "\n",
    "datagen.fit(x_train3)"
   ]
  },
  {
   "cell_type": "code",
   "execution_count": 43,
   "metadata": {
    "colab": {
     "autoexec": {
      "startup": false,
      "wait_interval": 0
     },
     "base_uri": "https://localhost:8080/",
     "height": 301
    },
    "colab_type": "code",
    "executionInfo": {
     "elapsed": 186207,
     "status": "ok",
     "timestamp": 1527392309480,
     "user": {
      "displayName": "cv usk",
      "photoUrl": "//lh5.googleusercontent.com/--UQyF-cisE4/AAAAAAAAAAI/AAAAAAACcCg/nW1mf571W7o/s50-c-k-no/photo.jpg",
      "userId": "103824322408948109555"
     },
     "user_tz": -540
    },
    "id": "ilKNQV3-N0ca",
    "outputId": "b68517b6-d6a5-4a88-b9c0-67648c35f952",
    "scrolled": true
   },
   "outputs": [
    {
     "name": "stdout",
     "output_type": "stream",
     "text": [
      "Epoch 1/100\n",
      "468/468 [==============================] - 31s 65ms/step - loss: 0.8914 - acc: 0.6824 - val_loss: 0.7338 - val_acc: 0.7597\n",
      "Epoch 2/100\n",
      "468/468 [==============================] - 23s 48ms/step - loss: 0.6291 - acc: 0.7611 - val_loss: 0.5227 - val_acc: 0.8097\n",
      "Epoch 3/100\n",
      "468/468 [==============================] - 23s 48ms/step - loss: 0.5331 - acc: 0.7943 - val_loss: 0.5015 - val_acc: 0.8130\n",
      "Epoch 4/100\n",
      "468/468 [==============================] - 22s 48ms/step - loss: 0.4743 - acc: 0.8134 - val_loss: 0.4058 - val_acc: 0.8460\n",
      "Epoch 5/100\n",
      "468/468 [==============================] - 23s 48ms/step - loss: 0.4405 - acc: 0.8277 - val_loss: 0.3887 - val_acc: 0.8633\n",
      "Epoch 6/100\n",
      "468/468 [==============================] - 23s 48ms/step - loss: 0.4020 - acc: 0.8475 - val_loss: 0.3919 - val_acc: 0.8623\n",
      "Epoch 7/100\n",
      "468/468 [==============================] - 23s 48ms/step - loss: 0.3753 - acc: 0.8549 - val_loss: 0.3843 - val_acc: 0.8670\n",
      "Epoch 8/100\n",
      "468/468 [==============================] - 23s 48ms/step - loss: 0.3495 - acc: 0.8657 - val_loss: 0.3313 - val_acc: 0.8763\n",
      "Epoch 9/100\n",
      "468/468 [==============================] - 23s 48ms/step - loss: 0.3303 - acc: 0.8728 - val_loss: 0.2838 - val_acc: 0.8957\n",
      "Epoch 10/100\n",
      "468/468 [==============================] - 22s 48ms/step - loss: 0.3177 - acc: 0.8783 - val_loss: 0.3066 - val_acc: 0.8840\n",
      "Epoch 11/100\n",
      "468/468 [==============================] - 22s 48ms/step - loss: 0.2967 - acc: 0.8870 - val_loss: 0.4279 - val_acc: 0.8653\n",
      "Epoch 12/100\n",
      "468/468 [==============================] - 23s 48ms/step - loss: 0.2911 - acc: 0.8880 - val_loss: 0.2674 - val_acc: 0.9063\n",
      "Epoch 13/100\n",
      "468/468 [==============================] - 23s 49ms/step - loss: 0.2804 - acc: 0.8924 - val_loss: 0.2803 - val_acc: 0.8927\n",
      "Epoch 14/100\n",
      "468/468 [==============================] - 23s 49ms/step - loss: 0.2695 - acc: 0.8963 - val_loss: 0.4619 - val_acc: 0.8667\n",
      "Epoch 15/100\n",
      "468/468 [==============================] - 23s 48ms/step - loss: 0.2580 - acc: 0.9026 - val_loss: 0.2534 - val_acc: 0.9043\n",
      "Epoch 16/100\n",
      "468/468 [==============================] - 23s 48ms/step - loss: 0.2541 - acc: 0.9006 - val_loss: 0.2507 - val_acc: 0.9090\n",
      "Epoch 17/100\n",
      "468/468 [==============================] - 23s 49ms/step - loss: 0.2481 - acc: 0.9067 - val_loss: 0.2524 - val_acc: 0.9060\n",
      "Epoch 18/100\n",
      "468/468 [==============================] - 23s 48ms/step - loss: 0.2366 - acc: 0.9116 - val_loss: 0.2735 - val_acc: 0.9083\n",
      "Epoch 19/100\n",
      "468/468 [==============================] - 23s 48ms/step - loss: 0.2287 - acc: 0.9128 - val_loss: 0.2438 - val_acc: 0.9137\n",
      "Epoch 20/100\n",
      "468/468 [==============================] - 23s 49ms/step - loss: 0.2237 - acc: 0.9156 - val_loss: 0.2772 - val_acc: 0.9147\n",
      "Epoch 21/100\n",
      "468/468 [==============================] - 23s 50ms/step - loss: 0.2237 - acc: 0.9148 - val_loss: 0.2266 - val_acc: 0.9173\n",
      "Epoch 22/100\n",
      "468/468 [==============================] - 23s 50ms/step - loss: 0.2113 - acc: 0.9179 - val_loss: 0.3070 - val_acc: 0.9080\n",
      "Epoch 23/100\n",
      "468/468 [==============================] - 23s 49ms/step - loss: 0.2098 - acc: 0.9195 - val_loss: 0.2133 - val_acc: 0.9253\n",
      "Epoch 24/100\n",
      "468/468 [==============================] - 23s 49ms/step - loss: 0.2017 - acc: 0.9237 - val_loss: 0.2205 - val_acc: 0.9257\n",
      "Epoch 25/100\n",
      "468/468 [==============================] - 23s 48ms/step - loss: 0.2000 - acc: 0.9255 - val_loss: 0.2163 - val_acc: 0.9270\n",
      "Epoch 26/100\n",
      "468/468 [==============================] - 23s 49ms/step - loss: 0.2028 - acc: 0.9213 - val_loss: 0.2592 - val_acc: 0.9143\n",
      "Epoch 00026: early stopping\n"
     ]
    }
   ],
   "source": [
    "# train\n",
    "history = model.fit_generator(datagen.flow(x_train3, y_train3,\n",
    "                                           batch_size=batch_size),\n",
    "                              steps_per_epoch=x_train3.shape[0] // batch_size,\n",
    "                              epochs=epochs,\n",
    "                              validation_data=(x_test3, y_test3),\n",
    "                              callbacks=[es_cb, csv_log])"
   ]
  },
  {
   "cell_type": "markdown",
   "metadata": {},
   "source": [
    "### Evaluate ordinary classification"
   ]
  },
  {
   "cell_type": "code",
   "execution_count": 45,
   "metadata": {
    "colab": {
     "autoexec": {
      "startup": false,
      "wait_interval": 0
     },
     "base_uri": "https://localhost:8080/",
     "height": 52
    },
    "colab_type": "code",
    "executionInfo": {
     "elapsed": 1576,
     "status": "ok",
     "timestamp": 1527392311097,
     "user": {
      "displayName": "cv usk",
      "photoUrl": "//lh5.googleusercontent.com/--UQyF-cisE4/AAAAAAAAAAI/AAAAAAACcCg/nW1mf571W7o/s50-c-k-no/photo.jpg",
      "userId": "103824322408948109555"
     },
     "user_tz": -540
    },
    "id": "IwPrXvPFMezf",
    "outputId": "d9c11bc3-f03e-40db-c586-25d71909ce8d"
   },
   "outputs": [
    {
     "name": "stdout",
     "output_type": "stream",
     "text": [
      "3000/3000 [==============================] - 1s 345us/step\n",
      "TEST Loss: 0.2591986161569754\tAccuracy: 0.9143333333333333\n"
     ]
    }
   ],
   "source": [
    "# evaluate\n",
    "evaluation = model.evaluate(x_test3, y_test3)\n",
    "print(\"TEST Loss: {0}\\tAccuracy: {1}\".format(evaluation[0], evaluation[1]))"
   ]
  },
  {
   "cell_type": "code",
   "execution_count": null,
   "metadata": {
    "colab": {
     "autoexec": {
      "startup": false,
      "wait_interval": 0
     }
    },
    "colab_type": "code",
    "id": "AiHNVujZaJwf"
   },
   "outputs": [],
   "source": []
  },
  {
   "cell_type": "markdown",
   "metadata": {},
   "source": [
    "### For complementary classes"
   ]
  },
  {
   "cell_type": "code",
   "execution_count": 52,
   "metadata": {
    "colab": {
     "autoexec": {
      "startup": false,
      "wait_interval": 0
     }
    },
    "colab_type": "code",
    "id": "hPY9ZbQVhDXe"
   },
   "outputs": [],
   "source": [
    "# load model for complementary label\n",
    "cmodel = vgg(x_train3, num_classes)\n",
    "\n",
    "batch_size = 32\n",
    "epochs = 100"
   ]
  },
  {
   "cell_type": "code",
   "execution_count": 53,
   "metadata": {
    "colab": {
     "autoexec": {
      "startup": false,
      "wait_interval": 0
     }
    },
    "colab_type": "code",
    "id": "cg5u-ZamndA2"
   },
   "outputs": [],
   "source": [
    "def sigmoid_loss(target, output):\n",
    "    return 10 / (1 + math.e ** K.categorical_crossentropy(target, output))"
   ]
  },
  {
   "cell_type": "code",
   "execution_count": 54,
   "metadata": {
    "colab": {
     "autoexec": {
      "startup": false,
      "wait_interval": 0
     }
    },
    "colab_type": "code",
    "id": "RlCKwWCshwk8"
   },
   "outputs": [],
   "source": [
    "def caccuracy(target, output):\n",
    "    return 1 - metrics.categorical_accuracy(target, output)"
   ]
  },
  {
   "cell_type": "code",
   "execution_count": 55,
   "metadata": {
    "colab": {
     "autoexec": {
      "startup": false,
      "wait_interval": 0
     }
    },
    "colab_type": "code",
    "id": "UQZlyZS0aJ41"
   },
   "outputs": [],
   "source": [
    "es_cb = EarlyStopping(monitor='val_loss', patience=3, verbose=1, mode='auto')\n",
    "csv_log = CSVLogger(\"Cifar3_complementary.csv\", separator=',', append=True)\n",
    "\n",
    "cmodel.compile(loss=sigmoid_loss,\n",
    "               optimizer=Adam(lr=0.0001, decay=1e-5, amsgrad=True),\n",
    "               metrics=[caccuracy])"
   ]
  },
  {
   "cell_type": "code",
   "execution_count": 56,
   "metadata": {
    "colab": {
     "autoexec": {
      "startup": false,
      "wait_interval": 0
     }
    },
    "colab_type": "code",
    "id": "0adhYVzYMez0"
   },
   "outputs": [],
   "source": [
    "datagen = ImageDataGenerator(\n",
    "    featurewise_center=False,\n",
    "    samplewise_center=False,\n",
    "    featurewise_std_normalization=False,\n",
    "    samplewise_std_normalization=False, \n",
    "    zca_whitening=False,\n",
    "    rotation_range=15, \n",
    "    width_shift_range=0.1, \n",
    "    height_shift_range=0.1, \n",
    "    horizontal_flip=True,\n",
    "    vertical_flip=False) \n",
    "\n",
    "datagen.fit(x_train3)"
   ]
  },
  {
   "cell_type": "code",
   "execution_count": 57,
   "metadata": {
    "colab": {
     "autoexec": {
      "startup": false,
      "wait_interval": 0
     },
     "base_uri": "https://localhost:8080/",
     "height": 371
    },
    "colab_type": "code",
    "executionInfo": {
     "elapsed": 238472,
     "status": "ok",
     "timestamp": 1527392556909,
     "user": {
      "displayName": "cv usk",
      "photoUrl": "//lh5.googleusercontent.com/--UQyF-cisE4/AAAAAAAAAAI/AAAAAAACcCg/nW1mf571W7o/s50-c-k-no/photo.jpg",
      "userId": "103824322408948109555"
     },
     "user_tz": -540
    },
    "id": "GRxLCOLUPD8T",
    "outputId": "13afb13b-fdca-4978-d774-e2e456a21a50",
    "scrolled": true
   },
   "outputs": [
    {
     "name": "stdout",
     "output_type": "stream",
     "text": [
      "Epoch 1/100\n",
      "468/468 [==============================] - 32s 68ms/step - loss: 0.9263 - caccuracy: 0.8319 - val_loss: 0.7623 - val_caccuracy: 0.8620\n",
      "Epoch 2/100\n",
      "468/468 [==============================] - 23s 49ms/step - loss: 0.7758 - caccuracy: 0.8553 - val_loss: 0.7462 - val_caccuracy: 0.8607\n",
      "Epoch 3/100\n",
      "468/468 [==============================] - 23s 49ms/step - loss: 0.6941 - caccuracy: 0.8726 - val_loss: 0.6534 - val_caccuracy: 0.8823\n",
      "Epoch 4/100\n",
      "468/468 [==============================] - 23s 50ms/step - loss: 0.6350 - caccuracy: 0.8840 - val_loss: 0.5793 - val_caccuracy: 0.8940\n",
      "Epoch 5/100\n",
      "468/468 [==============================] - 24s 50ms/step - loss: 0.6021 - caccuracy: 0.8886 - val_loss: 0.5882 - val_caccuracy: 0.8920\n",
      "Epoch 6/100\n",
      "468/468 [==============================] - 23s 49ms/step - loss: 0.5726 - caccuracy: 0.8946 - val_loss: 0.5076 - val_caccuracy: 0.9080\n",
      "Epoch 7/100\n",
      "468/468 [==============================] - 23s 49ms/step - loss: 0.5531 - caccuracy: 0.8987 - val_loss: 0.5201 - val_caccuracy: 0.9047\n",
      "Epoch 8/100\n",
      "468/468 [==============================] - 23s 49ms/step - loss: 0.5385 - caccuracy: 0.9001 - val_loss: 0.4588 - val_caccuracy: 0.9143\n",
      "Epoch 9/100\n",
      "468/468 [==============================] - 23s 48ms/step - loss: 0.5104 - caccuracy: 0.9059 - val_loss: 0.4576 - val_caccuracy: 0.9140\n",
      "Epoch 10/100\n",
      "468/468 [==============================] - 23s 49ms/step - loss: 0.4947 - caccuracy: 0.9082 - val_loss: 0.4876 - val_caccuracy: 0.9110\n",
      "Epoch 11/100\n",
      "468/468 [==============================] - 23s 49ms/step - loss: 0.4740 - caccuracy: 0.9125 - val_loss: 0.4883 - val_caccuracy: 0.9100\n",
      "Epoch 12/100\n",
      "468/468 [==============================] - 23s 49ms/step - loss: 0.4529 - caccuracy: 0.9172 - val_loss: 0.4421 - val_caccuracy: 0.9193\n",
      "Epoch 13/100\n",
      "468/468 [==============================] - 23s 49ms/step - loss: 0.4405 - caccuracy: 0.9203 - val_loss: 0.4015 - val_caccuracy: 0.9260\n",
      "Epoch 14/100\n",
      "468/468 [==============================] - 23s 49ms/step - loss: 0.4122 - caccuracy: 0.9253 - val_loss: 0.3766 - val_caccuracy: 0.9303\n",
      "Epoch 15/100\n",
      "468/468 [==============================] - 23s 49ms/step - loss: 0.4253 - caccuracy: 0.9217 - val_loss: 0.4599 - val_caccuracy: 0.9133\n",
      "Epoch 16/100\n",
      "468/468 [==============================] - 23s 48ms/step - loss: 0.4108 - caccuracy: 0.9249 - val_loss: 0.3817 - val_caccuracy: 0.9307\n",
      "Epoch 17/100\n",
      "468/468 [==============================] - 23s 49ms/step - loss: 0.4044 - caccuracy: 0.9263 - val_loss: 0.4049 - val_caccuracy: 0.9243\n",
      "Epoch 00017: early stopping\n"
     ]
    }
   ],
   "source": [
    "# train\n",
    "history = cmodel.fit_generator(datagen.flow(x_train3, y_ctrain3,\n",
    "                                            batch_size=batch_size),\n",
    "                               steps_per_epoch=x_train3.shape[0] // batch_size,\n",
    "                               epochs=epochs,\n",
    "                               validation_data=(x_test3, y_ctest3),\n",
    "                               callbacks=[es_cb, csv_log])"
   ]
  },
  {
   "cell_type": "markdown",
   "metadata": {},
   "source": [
    "### evaluate complementary model"
   ]
  },
  {
   "cell_type": "code",
   "execution_count": 58,
   "metadata": {
    "colab": {
     "autoexec": {
      "startup": false,
      "wait_interval": 0
     },
     "base_uri": "https://localhost:8080/",
     "height": 34
    },
    "colab_type": "code",
    "executionInfo": {
     "elapsed": 2250,
     "status": "ok",
     "timestamp": 1527392559764,
     "user": {
      "displayName": "cv usk",
      "photoUrl": "//lh5.googleusercontent.com/--UQyF-cisE4/AAAAAAAAAAI/AAAAAAACcCg/nW1mf571W7o/s50-c-k-no/photo.jpg",
      "userId": "103824322408948109555"
     },
     "user_tz": -540
    },
    "id": "2juEWtGGoxG5",
    "outputId": "1edd8a2c-987d-4937-aa7b-e4c232a5a65e"
   },
   "outputs": [
    {
     "name": "stdout",
     "output_type": "stream",
     "text": [
      "0.859\n"
     ]
    }
   ],
   "source": [
    "cpred = cmodel.predict(x_test3)\n",
    "\n",
    "score = 0\n",
    "for i in range(len(y_test3)):\n",
    "    if np.argmax(y_test3[i]) == np.argmax(cpred[i]):\n",
    "        score += 1\n",
    "print(score / len(y_test3))"
   ]
  },
  {
   "cell_type": "code",
   "execution_count": 0,
   "metadata": {
    "colab": {
     "autoexec": {
      "startup": false,
      "wait_interval": 0
     }
    },
    "colab_type": "code",
    "id": "JP3JTjrPoxEM"
   },
   "outputs": [],
   "source": []
  },
  {
   "cell_type": "code",
   "execution_count": null,
   "metadata": {},
   "outputs": [],
   "source": []
  },
  {
   "cell_type": "code",
   "execution_count": 0,
   "metadata": {
    "colab": {
     "autoexec": {
      "startup": false,
      "wait_interval": 0
     }
    },
    "colab_type": "code",
    "id": "4AdwNz7To5L0"
   },
   "outputs": [],
   "source": []
  },
  {
   "cell_type": "code",
   "execution_count": 0,
   "metadata": {
    "colab": {
     "autoexec": {
      "startup": false,
      "wait_interval": 0
     }
    },
    "colab_type": "code",
    "id": "agB4nslIpFUy"
   },
   "outputs": [],
   "source": []
  }
 ],
 "metadata": {
  "accelerator": "GPU",
  "colab": {
   "collapsed_sections": [],
   "default_view": {},
   "name": "cifar10_complementary3.ipynb",
   "provenance": [],
   "version": "0.3.2",
   "views": {}
  },
  "kernelspec": {
   "display_name": "Python 3",
   "language": "python",
   "name": "python3"
  },
  "language_info": {
   "codemirror_mode": {
    "name": "ipython",
    "version": 3
   },
   "file_extension": ".py",
   "mimetype": "text/x-python",
   "name": "python",
   "nbconvert_exporter": "python",
   "pygments_lexer": "ipython3",
   "version": "3.6.4"
  }
 },
 "nbformat": 4,
 "nbformat_minor": 1
}
